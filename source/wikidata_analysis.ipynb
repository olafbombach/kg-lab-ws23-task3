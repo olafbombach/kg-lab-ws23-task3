{
 "cells": [
  {
   "cell_type": "code",
   "execution_count": 15,
   "metadata": {
    "collapsed": true
   },
   "outputs": [],
   "source": [
    "import numpy as np\n",
    "import pandas as pd\n",
    "from wikidataquery import WikidataQuery"
   ]
  },
  {
   "cell_type": "markdown",
   "source": [
    "## Let's consider the number of total academic conferences of Wikidata (P31/instance of='academic conference')"
   ],
   "metadata": {
    "collapsed": false
   }
  },
  {
   "cell_type": "code",
   "execution_count": 10,
   "outputs": [],
   "source": [
    "temp = WikidataQuery.queryWikiData(\n",
    "    '''SELECT\n",
    "    ?conferencesLabel\n",
    "    ?seriesLabel\n",
    "    ?short_name\n",
    "    ?beginnings\n",
    "    ?WikiCFP_identifier\n",
    "    ?DBLP_identifier\n",
    "\n",
    "    WHERE {\n",
    "    ?conferences wdt:P31 wd:Q2020153.\n",
    "\n",
    "    OPTIONAL {\n",
    "    ?conferences wdt:P179 ?series.\n",
    "    OPTIONAL { ?series wdt:P1813 ?short_name. }\n",
    "    OPTIONAL { ?series wdt:P571 ?beginnings. }\n",
    "    OPTIONAL { ?series wdt:P5127 ?WikiCFP_identifier. }\n",
    "    OPTIONAL { ?series wdt:P8926 ?DBLP_identifier. }\n",
    "    }\n",
    "\n",
    "    SERVICE wikibase:label { bd:serviceParam wikibase:language \"[AUTO_LANGUAGE],en\".\n",
    "    }\n",
    "}''')"
   ],
   "metadata": {
    "collapsed": false
   }
  },
  {
   "cell_type": "code",
   "execution_count": 11,
   "outputs": [],
   "source": [
    "# untangling the results in order to get a dataframe\n",
    "\n",
    "results = temp['results']['bindings']\n",
    "\n",
    "conf_labels = np.array([result['conferencesLabel']['value'] for result in results])\n",
    "series_labels = np.array([result['seriesLabel']['value'] if 'seriesLabel' in result.keys() else pd.NA for result in results])\n",
    "short_name = np.array([result['short_name']['value'] if 'short_name' in result.keys() else pd.NA for result in results])\n",
    "beginnings = np.array([result['beginnings']['value'] if 'beginnings' in result.keys() else pd.NA for result in results])\n",
    "wikicfp_identifier = np.array([result['WikiCFP_identifier']['value'] if 'WikiCFP_identifier' in result.keys() else pd.NA for result in results])\n",
    "dblp_identifier = np.array([result['DBLP_identifier']['value'] if 'DBLP_identifier' in result.keys() else pd.NA for result in results])"
   ],
   "metadata": {
    "collapsed": false
   }
  },
  {
   "cell_type": "code",
   "execution_count": 12,
   "outputs": [
    {
     "data": {
      "text/plain": "                                            conf_labels  \\\n4575  2006 ACM/IEEE Symposium on Architecture for Ne...   \n1488  Management of Multimedia on the Internet, 5th ...   \n4970  ICEIS Doctoral Consortium, 4th ICEIS Doctoral ...   \n8009  Digitizing Cultural Heritage and its Innovativ...   \n3027  Digital Enterprise Computing (DEC 2016), Böbli...   \n...                                                 ...   \n6916          3rd ACM Conference on Recommender Systems   \n5993  22nd International Symposium on High-Performan...   \n5664  17th International ACM SIGACCESS Conference on...   \n718   Information and Communication Security, Second...   \n7230  8th International Conference on Future Interne...   \n\n                                          series_labels short_name  \\\n4575  Symposium on Architectures for Networking and ...       ANCS   \n1488  IFIP/IEEE International Conference on Manageme...       MMNS   \n4970                          ICEIS Doctoral Consortium      DCEIS   \n8009                                               <NA>       <NA>   \n3027                       Digital Enterprise Computing        DEC   \n...                                                 ...        ...   \n6916   The ACM Conference Series on Recommender Systems     RecSys   \n5993  IEEE International Symposium on High-Performan...       HPDC   \n5664  International ACM SIGACCESS Conference on Comp...     ASSETS   \n718   International Conference on Information and Co...      ICICS   \n7230  International Conference on Future Internet of...    FiCloud   \n\n                beginnings WikiCFP_identifier DBLP_identifier  \n4575                  <NA>                171       conf/ancs  \n1488  1997-01-01T00:00:00Z               <NA>       conf/mmns  \n4970                  <NA>               <NA>      conf/dceis  \n8009                  <NA>               <NA>            <NA>  \n3027                  <NA>               <NA>        conf/dec  \n...                    ...                ...             ...  \n6916  2007-01-01T00:00:00Z               <NA>     conf/recsys  \n5993  1992-01-01T00:00:00Z               1226       conf/hpdc  \n5664  1994-01-01T00:00:00Z                243     conf/assets  \n718   1997-01-01T00:00:00Z               1385      conf/icics  \n7230                  <NA>               <NA>    conf/ficloud  \n\n[200 rows x 6 columns]",
      "text/html": "<div>\n<style scoped>\n    .dataframe tbody tr th:only-of-type {\n        vertical-align: middle;\n    }\n\n    .dataframe tbody tr th {\n        vertical-align: top;\n    }\n\n    .dataframe thead th {\n        text-align: right;\n    }\n</style>\n<table border=\"1\" class=\"dataframe\">\n  <thead>\n    <tr style=\"text-align: right;\">\n      <th></th>\n      <th>conf_labels</th>\n      <th>series_labels</th>\n      <th>short_name</th>\n      <th>beginnings</th>\n      <th>WikiCFP_identifier</th>\n      <th>DBLP_identifier</th>\n    </tr>\n  </thead>\n  <tbody>\n    <tr>\n      <th>4575</th>\n      <td>2006 ACM/IEEE Symposium on Architecture for Ne...</td>\n      <td>Symposium on Architectures for Networking and ...</td>\n      <td>ANCS</td>\n      <td>&lt;NA&gt;</td>\n      <td>171</td>\n      <td>conf/ancs</td>\n    </tr>\n    <tr>\n      <th>1488</th>\n      <td>Management of Multimedia on the Internet, 5th ...</td>\n      <td>IFIP/IEEE International Conference on Manageme...</td>\n      <td>MMNS</td>\n      <td>1997-01-01T00:00:00Z</td>\n      <td>&lt;NA&gt;</td>\n      <td>conf/mmns</td>\n    </tr>\n    <tr>\n      <th>4970</th>\n      <td>ICEIS Doctoral Consortium, 4th ICEIS Doctoral ...</td>\n      <td>ICEIS Doctoral Consortium</td>\n      <td>DCEIS</td>\n      <td>&lt;NA&gt;</td>\n      <td>&lt;NA&gt;</td>\n      <td>conf/dceis</td>\n    </tr>\n    <tr>\n      <th>8009</th>\n      <td>Digitizing Cultural Heritage and its Innovativ...</td>\n      <td>&lt;NA&gt;</td>\n      <td>&lt;NA&gt;</td>\n      <td>&lt;NA&gt;</td>\n      <td>&lt;NA&gt;</td>\n      <td>&lt;NA&gt;</td>\n    </tr>\n    <tr>\n      <th>3027</th>\n      <td>Digital Enterprise Computing (DEC 2016), Böbli...</td>\n      <td>Digital Enterprise Computing</td>\n      <td>DEC</td>\n      <td>&lt;NA&gt;</td>\n      <td>&lt;NA&gt;</td>\n      <td>conf/dec</td>\n    </tr>\n    <tr>\n      <th>...</th>\n      <td>...</td>\n      <td>...</td>\n      <td>...</td>\n      <td>...</td>\n      <td>...</td>\n      <td>...</td>\n    </tr>\n    <tr>\n      <th>6916</th>\n      <td>3rd ACM Conference on Recommender Systems</td>\n      <td>The ACM Conference Series on Recommender Systems</td>\n      <td>RecSys</td>\n      <td>2007-01-01T00:00:00Z</td>\n      <td>&lt;NA&gt;</td>\n      <td>conf/recsys</td>\n    </tr>\n    <tr>\n      <th>5993</th>\n      <td>22nd International Symposium on High-Performan...</td>\n      <td>IEEE International Symposium on High-Performan...</td>\n      <td>HPDC</td>\n      <td>1992-01-01T00:00:00Z</td>\n      <td>1226</td>\n      <td>conf/hpdc</td>\n    </tr>\n    <tr>\n      <th>5664</th>\n      <td>17th International ACM SIGACCESS Conference on...</td>\n      <td>International ACM SIGACCESS Conference on Comp...</td>\n      <td>ASSETS</td>\n      <td>1994-01-01T00:00:00Z</td>\n      <td>243</td>\n      <td>conf/assets</td>\n    </tr>\n    <tr>\n      <th>718</th>\n      <td>Information and Communication Security, Second...</td>\n      <td>International Conference on Information and Co...</td>\n      <td>ICICS</td>\n      <td>1997-01-01T00:00:00Z</td>\n      <td>1385</td>\n      <td>conf/icics</td>\n    </tr>\n    <tr>\n      <th>7230</th>\n      <td>8th International Conference on Future Interne...</td>\n      <td>International Conference on Future Internet of...</td>\n      <td>FiCloud</td>\n      <td>&lt;NA&gt;</td>\n      <td>&lt;NA&gt;</td>\n      <td>conf/ficloud</td>\n    </tr>\n  </tbody>\n</table>\n<p>200 rows × 6 columns</p>\n</div>"
     },
     "execution_count": 12,
     "metadata": {},
     "output_type": "execute_result"
    }
   ],
   "source": [
    "# zip all arrays together to create a DataFrame\n",
    "\n",
    "together = zip(conf_labels, series_labels, short_name, beginnings, wikicfp_identifier, dblp_identifier)\n",
    "\n",
    "df = pd.DataFrame(together, columns=['conf_labels', 'series_labels', 'short_name', 'beginnings', 'WikiCFP_identifier', 'DBLP_identifier'])\n",
    "df.sample(200, random_state=42)"
   ],
   "metadata": {
    "collapsed": false
   }
  },
  {
   "cell_type": "code",
   "execution_count": 13,
   "outputs": [
    {
     "name": "stdout",
     "output_type": "stream",
     "text": [
      "(8910, 6)\n"
     ]
    },
    {
     "data": {
      "text/plain": "conf_labels              0\nseries_labels         1039\nshort_name            1557\nbeginnings            6363\nWikiCFP_identifier    5238\nDBLP_identifier       1540\ndtype: int64"
     },
     "execution_count": 13,
     "metadata": {},
     "output_type": "execute_result"
    }
   ],
   "source": [
    "print(df.shape)\n",
    "df.isna().sum()"
   ],
   "metadata": {
    "collapsed": false
   }
  },
  {
   "cell_type": "markdown",
   "source": [
    "# Let's check an example and its possible queries for the different databases:\n",
    "\n",
    "example: conference series IWCMC"
   ],
   "metadata": {
    "collapsed": false
   }
  },
  {
   "cell_type": "code",
   "execution_count": 14,
   "outputs": [
    {
     "data": {
      "text/plain": "                                            conf_labels  \\\n907   7th International Wireless Communications and ...   \n5127  2016 International Wireless Communications and...   \n5128  International Wireless Communications and Mobi...   \n5130  International Conference on Wireless Communica...   \n5131  6th International Wireless Communications and ...   \n5132  International Conference on Wireless Communica...   \n7248  International Conference on Wireless Communica...   \n\n                                          series_labels short_name beginnings  \\\n907   International Conference on Wireless Communica...      IWCMC       <NA>   \n5127  International Conference on Wireless Communica...      IWCMC       <NA>   \n5128  International Conference on Wireless Communica...      IWCMC       <NA>   \n5130  International Conference on Wireless Communica...      IWCMC       <NA>   \n5131  International Conference on Wireless Communica...      IWCMC       <NA>   \n5132  International Conference on Wireless Communica...      IWCMC       <NA>   \n7248  International Conference on Wireless Communica...      IWCMC       <NA>   \n\n     WikiCFP_identifier DBLP_identifier  \n907                1824      conf/iwcmc  \n5127               1824      conf/iwcmc  \n5128               1824      conf/iwcmc  \n5130               1824      conf/iwcmc  \n5131               1824      conf/iwcmc  \n5132               1824      conf/iwcmc  \n7248               1824      conf/iwcmc  ",
      "text/html": "<div>\n<style scoped>\n    .dataframe tbody tr th:only-of-type {\n        vertical-align: middle;\n    }\n\n    .dataframe tbody tr th {\n        vertical-align: top;\n    }\n\n    .dataframe thead th {\n        text-align: right;\n    }\n</style>\n<table border=\"1\" class=\"dataframe\">\n  <thead>\n    <tr style=\"text-align: right;\">\n      <th></th>\n      <th>conf_labels</th>\n      <th>series_labels</th>\n      <th>short_name</th>\n      <th>beginnings</th>\n      <th>WikiCFP_identifier</th>\n      <th>DBLP_identifier</th>\n    </tr>\n  </thead>\n  <tbody>\n    <tr>\n      <th>907</th>\n      <td>7th International Wireless Communications and ...</td>\n      <td>International Conference on Wireless Communica...</td>\n      <td>IWCMC</td>\n      <td>&lt;NA&gt;</td>\n      <td>1824</td>\n      <td>conf/iwcmc</td>\n    </tr>\n    <tr>\n      <th>5127</th>\n      <td>2016 International Wireless Communications and...</td>\n      <td>International Conference on Wireless Communica...</td>\n      <td>IWCMC</td>\n      <td>&lt;NA&gt;</td>\n      <td>1824</td>\n      <td>conf/iwcmc</td>\n    </tr>\n    <tr>\n      <th>5128</th>\n      <td>International Wireless Communications and Mobi...</td>\n      <td>International Conference on Wireless Communica...</td>\n      <td>IWCMC</td>\n      <td>&lt;NA&gt;</td>\n      <td>1824</td>\n      <td>conf/iwcmc</td>\n    </tr>\n    <tr>\n      <th>5130</th>\n      <td>International Conference on Wireless Communica...</td>\n      <td>International Conference on Wireless Communica...</td>\n      <td>IWCMC</td>\n      <td>&lt;NA&gt;</td>\n      <td>1824</td>\n      <td>conf/iwcmc</td>\n    </tr>\n    <tr>\n      <th>5131</th>\n      <td>6th International Wireless Communications and ...</td>\n      <td>International Conference on Wireless Communica...</td>\n      <td>IWCMC</td>\n      <td>&lt;NA&gt;</td>\n      <td>1824</td>\n      <td>conf/iwcmc</td>\n    </tr>\n    <tr>\n      <th>5132</th>\n      <td>International Conference on Wireless Communica...</td>\n      <td>International Conference on Wireless Communica...</td>\n      <td>IWCMC</td>\n      <td>&lt;NA&gt;</td>\n      <td>1824</td>\n      <td>conf/iwcmc</td>\n    </tr>\n    <tr>\n      <th>7248</th>\n      <td>International Conference on Wireless Communica...</td>\n      <td>International Conference on Wireless Communica...</td>\n      <td>IWCMC</td>\n      <td>&lt;NA&gt;</td>\n      <td>1824</td>\n      <td>conf/iwcmc</td>\n    </tr>\n  </tbody>\n</table>\n</div>"
     },
     "execution_count": 14,
     "metadata": {},
     "output_type": "execute_result"
    }
   ],
   "source": [
    "df.loc[df['short_name'] == 'IWCMC']"
   ],
   "metadata": {
    "collapsed": false
   }
  },
  {
   "cell_type": "markdown",
   "source": [
    "## In Wikidata:\n",
    "events for the years: 2007, 2009, 2010, 2011, 2014, 2016 and 2022\n",
    "--> I also could not find other entries that are just not connected to the series...\n",
    "_________________________________________________________________________________________________________\n",
    "\n",
    "## In WikiCFP:\n",
    "events for the years: <b>2008</b>, 2009, 2010, <b>2012</b>, <b>2013</b>, 2016 and <b>2017</b>\n",
    "http://www.wikicfp.com/cfp/program?id=1824&s=IWCMC&f=International%20Conference%20on%20Wireless%20Communications%20and%20Mobile%20Computing\n",
    "\n",
    "## In DBLP:\n",
    "events for the years: <b>2006</b>, 2007, 2009, 2010, 2011, <b>2012</b>, <b>2013</b>, 2014, <b>2015</b>, 2016, <b>2017</b>, <b>2018</b>, <b>2019</b>, <b>2020</b>, <b>2021</b>, 2022, <b>2023</b>\n",
    "https://dblp.org/db/conf/iwcmc/index.html\n",
    "every series is well organized\n",
    "\n",
    "## In Crossref:\n",
    "https://search.crossref.org/search/works?q=iwcmc&from_ui=yes\n",
    "There is a lot of unorganized information about this conference series. There is no such thing as the overall conference series with an enumeration of all events. Structuring could be a lot of work.\n",
    "\n",
    "## In CORE:\n",
    "https://core.ac.uk/search?q=iwcmc\n",
    "There only seems to be information about papers. Maybe we can use the papers property in order to deduce information about conference events.\n",
    "\n",
    "## In BASE:\n",
    "https://www.base-search.net/Search/Results?type=all&lookfor=IWCMC&ling=1&oaboost=1&keepFilters=1&filter%5B%5D=f_dctypenorm%3A%2213%22&name=&thes=&refid=dcresde&newsearch=1\n",
    "Information seems to be a bit more organized than in Crossref. All information seems to be imported from Crossref though.\n",
    "The reference to the events are directed to IEEE. Here we also get a list of all conference events:\n",
    "\n",
    "## In IEEE:\n",
    "https://ieeexplore.ieee.org/xpl/conhome/1002410/all-proceedings\n",
    "events for the years: <b>2008</b>, 2011, <b>2012</b>, <b>2013</b>, 2014, <b>2015</b>, 2016, <b>2017</b>, <b>2018</b>, <b>2019</b>, <b>2020</b>, <b>2021</b>, 2022 and <b>2023</b>"
   ],
   "metadata": {
    "collapsed": false
   }
  },
  {
   "cell_type": "markdown",
   "source": [
    "# Also there are duplicates: Should we merge those?"
   ],
   "metadata": {
    "collapsed": false
   }
  },
  {
   "cell_type": "code",
   "execution_count": 54,
   "outputs": [
    {
     "data": {
      "text/plain": "                                                       conf_labels  \\\nDBLP_identifier                                                      \nconf/3dica       {Leveraging the Semantics of Topic Maps, Secon...   \nconf/3dim        {Fourth International Conference on 3D Vision,...   \nconf/3dui        {3DUI 2006, 3DUI 2016, 3DUI 2019, 3DUI 2018, 3...   \nconf/5gwf        {2nd IEEE 5G World Forum, 5GWF 2019, Dresden, ...   \nconf/5gwn        {5G for Future Wireless Networks - 2nd EAI Int...   \n...                                                            ...   \nconf/www         {Sixth International World Wide Web Conference...   \nconf/xps         {Expertensysteme 93, 2. Deutsche Tagung Expert...   \nconf/xpu         {Agile Processes in Software Engineering and E...   \nconf/xsede       {Practice and Experience on Advanced Research ...   \nconf/zum         {Abstract State Machines, B and Z, First Inter...   \n\n                                                     series_labels short_name  \\\nDBLP_identifier                                                                 \nconf/3dica       {Three-Dimensional Image Processing, Measureme...    {3DIPM}   \nconf/3dim                  {International Conference on 3D Vision}      {3DV}   \nconf/3dui                   {IEEE Symposium on 3D User Interfaces}     {3DUI}   \nconf/5gwf                                         {5G World Forum}     {5GWF}   \nconf/5gwn        {International Conference on 5G for Future Wir...     {5GWN}   \n...                                                            ...        ...   \nconf/www                                      {The Web Conference}      {WWW}   \nconf/xps            {German Conference on Knowledge-Based Systems}      {XPS}   \nconf/xpu         {International Conference on Agile Software De...       {XP}   \nconf/xsede       {Practice and Experience in Advanced Research ...    {PEARC}   \nconf/zum         {International Conference on Abstract State Ma...      {ABZ}   \n\n                             beginnings WikiCFP_identifier  \nDBLP_identifier                                             \nconf/3dica       {1998-01-01T00:00:00Z}             {<NA>}  \nconf/3dim                        {<NA>}             {<NA>}  \nconf/3dui                        {<NA>}             {<NA>}  \nconf/5gwf        {2018-01-01T00:00:00Z}             {<NA>}  \nconf/5gwn        {2017-01-01T00:00:00Z}             {<NA>}  \n...                                 ...                ...  \nconf/www         {1994-01-01T00:00:00Z}             {3182}  \nconf/xps                         {<NA>}             {<NA>}  \nconf/xpu                         {<NA>}             {3186}  \nconf/xsede                       {<NA>}             {<NA>}  \nconf/zum                         {<NA>}               {13}  \n\n[2028 rows x 5 columns]",
      "text/html": "<div>\n<style scoped>\n    .dataframe tbody tr th:only-of-type {\n        vertical-align: middle;\n    }\n\n    .dataframe tbody tr th {\n        vertical-align: top;\n    }\n\n    .dataframe thead th {\n        text-align: right;\n    }\n</style>\n<table border=\"1\" class=\"dataframe\">\n  <thead>\n    <tr style=\"text-align: right;\">\n      <th></th>\n      <th>conf_labels</th>\n      <th>series_labels</th>\n      <th>short_name</th>\n      <th>beginnings</th>\n      <th>WikiCFP_identifier</th>\n    </tr>\n    <tr>\n      <th>DBLP_identifier</th>\n      <th></th>\n      <th></th>\n      <th></th>\n      <th></th>\n      <th></th>\n    </tr>\n  </thead>\n  <tbody>\n    <tr>\n      <th>conf/3dica</th>\n      <td>{Leveraging the Semantics of Topic Maps, Secon...</td>\n      <td>{Three-Dimensional Image Processing, Measureme...</td>\n      <td>{3DIPM}</td>\n      <td>{1998-01-01T00:00:00Z}</td>\n      <td>{&lt;NA&gt;}</td>\n    </tr>\n    <tr>\n      <th>conf/3dim</th>\n      <td>{Fourth International Conference on 3D Vision,...</td>\n      <td>{International Conference on 3D Vision}</td>\n      <td>{3DV}</td>\n      <td>{&lt;NA&gt;}</td>\n      <td>{&lt;NA&gt;}</td>\n    </tr>\n    <tr>\n      <th>conf/3dui</th>\n      <td>{3DUI 2006, 3DUI 2016, 3DUI 2019, 3DUI 2018, 3...</td>\n      <td>{IEEE Symposium on 3D User Interfaces}</td>\n      <td>{3DUI}</td>\n      <td>{&lt;NA&gt;}</td>\n      <td>{&lt;NA&gt;}</td>\n    </tr>\n    <tr>\n      <th>conf/5gwf</th>\n      <td>{2nd IEEE 5G World Forum, 5GWF 2019, Dresden, ...</td>\n      <td>{5G World Forum}</td>\n      <td>{5GWF}</td>\n      <td>{2018-01-01T00:00:00Z}</td>\n      <td>{&lt;NA&gt;}</td>\n    </tr>\n    <tr>\n      <th>conf/5gwn</th>\n      <td>{5G for Future Wireless Networks - 2nd EAI Int...</td>\n      <td>{International Conference on 5G for Future Wir...</td>\n      <td>{5GWN}</td>\n      <td>{2017-01-01T00:00:00Z}</td>\n      <td>{&lt;NA&gt;}</td>\n    </tr>\n    <tr>\n      <th>...</th>\n      <td>...</td>\n      <td>...</td>\n      <td>...</td>\n      <td>...</td>\n      <td>...</td>\n    </tr>\n    <tr>\n      <th>conf/www</th>\n      <td>{Sixth International World Wide Web Conference...</td>\n      <td>{The Web Conference}</td>\n      <td>{WWW}</td>\n      <td>{1994-01-01T00:00:00Z}</td>\n      <td>{3182}</td>\n    </tr>\n    <tr>\n      <th>conf/xps</th>\n      <td>{Expertensysteme 93, 2. Deutsche Tagung Expert...</td>\n      <td>{German Conference on Knowledge-Based Systems}</td>\n      <td>{XPS}</td>\n      <td>{&lt;NA&gt;}</td>\n      <td>{&lt;NA&gt;}</td>\n    </tr>\n    <tr>\n      <th>conf/xpu</th>\n      <td>{Agile Processes in Software Engineering and E...</td>\n      <td>{International Conference on Agile Software De...</td>\n      <td>{XP}</td>\n      <td>{&lt;NA&gt;}</td>\n      <td>{3186}</td>\n    </tr>\n    <tr>\n      <th>conf/xsede</th>\n      <td>{Practice and Experience on Advanced Research ...</td>\n      <td>{Practice and Experience in Advanced Research ...</td>\n      <td>{PEARC}</td>\n      <td>{&lt;NA&gt;}</td>\n      <td>{&lt;NA&gt;}</td>\n    </tr>\n    <tr>\n      <th>conf/zum</th>\n      <td>{Abstract State Machines, B and Z, First Inter...</td>\n      <td>{International Conference on Abstract State Ma...</td>\n      <td>{ABZ}</td>\n      <td>{&lt;NA&gt;}</td>\n      <td>{13}</td>\n    </tr>\n  </tbody>\n</table>\n<p>2028 rows × 5 columns</p>\n</div>"
     },
     "execution_count": 54,
     "metadata": {},
     "output_type": "execute_result"
    }
   ],
   "source": [
    "groupedby_dblp_df = df.groupby('DBLP_identifier').agg(set)\n",
    "groupedby_dblp_df"
   ],
   "metadata": {
    "collapsed": false
   }
  },
  {
   "cell_type": "code",
   "execution_count": 55,
   "outputs": [],
   "source": [
    "groupedby_dblp_df = groupedby_dblp_df.assign(length = groupedby_dblp_df['series_labels'].apply(len))"
   ],
   "metadata": {
    "collapsed": false
   }
  },
  {
   "cell_type": "code",
   "execution_count": 56,
   "outputs": [
    {
     "data": {
      "text/plain": "                                                       conf_labels  \\\nDBLP_identifier                                                      \nconf/ecml        {Machine Learning and Knowledge Discovery in D...   \n\n                                                     series_labels  \\\nDBLP_identifier                                                      \nconf/ecml        {European Conference on Machine Learning and P...   \n\n                        short_name beginnings WikiCFP_identifier  length  \nDBLP_identifier                                                           \nconf/ecml        {ECML, ECML PKDD}     {<NA>}             {<NA>}       2  ",
      "text/html": "<div>\n<style scoped>\n    .dataframe tbody tr th:only-of-type {\n        vertical-align: middle;\n    }\n\n    .dataframe tbody tr th {\n        vertical-align: top;\n    }\n\n    .dataframe thead th {\n        text-align: right;\n    }\n</style>\n<table border=\"1\" class=\"dataframe\">\n  <thead>\n    <tr style=\"text-align: right;\">\n      <th></th>\n      <th>conf_labels</th>\n      <th>series_labels</th>\n      <th>short_name</th>\n      <th>beginnings</th>\n      <th>WikiCFP_identifier</th>\n      <th>length</th>\n    </tr>\n    <tr>\n      <th>DBLP_identifier</th>\n      <th></th>\n      <th></th>\n      <th></th>\n      <th></th>\n      <th></th>\n      <th></th>\n    </tr>\n  </thead>\n  <tbody>\n    <tr>\n      <th>conf/ecml</th>\n      <td>{Machine Learning and Knowledge Discovery in D...</td>\n      <td>{European Conference on Machine Learning and P...</td>\n      <td>{ECML, ECML PKDD}</td>\n      <td>{&lt;NA&gt;}</td>\n      <td>{&lt;NA&gt;}</td>\n      <td>2</td>\n    </tr>\n  </tbody>\n</table>\n</div>"
     },
     "execution_count": 56,
     "metadata": {},
     "output_type": "execute_result"
    }
   ],
   "source": [
    "groupedby_dblp_df.loc[groupedby_dblp_df['length'] > 1]"
   ],
   "metadata": {
    "collapsed": false
   }
  },
  {
   "cell_type": "code",
   "execution_count": 57,
   "outputs": [
    {
     "data": {
      "text/plain": "                                                  conf_labels  \\\nshort_name                                                      \n*SEM        {The Eighth Joint Conference on Lexical and Co...   \n3DIPM       {Leveraging the Semantics of Topic Maps, Secon...   \n3DUI        {3DUI 2006, 3DUI 2016, 3DUI 2019, 3DUI 2018, 3...   \n3DV         {Fourth International Conference on 3D Vision,...   \n3GSE        {28th USENIX Security Symposium, USENIX Securi...   \n...                                                       ...   \niNetSeC     {Geospatial Free and Open Source Software in t...   \niTAG        {2014 International Conference on Interactive ...   \nicSPORTS    {3rd International Congress on Sport Sciences ...   \niiWAS       {21st International Conference on Information ...   \njAUTI       {Applications and Usability of Interactive TV ...   \n\n                                                series_labels  \\\nshort_name                                                      \n*SEM        {Joint Conference on Lexical and Computational...   \n3DIPM       {Three-Dimensional Image Processing, Measureme...   \n3DUI                   {IEEE Symposium on 3D User Interfaces}   \n3DV                   {International Conference on 3D Vision}   \n3GSE                              {USENIX Security Symposium}   \n...                                                       ...   \niNetSeC          {Open Research Problems in Network Security}   \niTAG        {International Conference on Interactive Techn...   \nicSPORTS    {International Congress on Sport Sciences Rese...   \niiWAS       {International Conference on Information Integ...   \njAUTI       {Iberoamerican Conference on Applications and ...   \n\n                        beginnings WikiCFP_identifier  DBLP_identifier  \nshort_name                                                              \n*SEM                        {<NA>}             {<NA>}   {conf/starsem}  \n3DIPM       {1998-01-01T00:00:00Z}             {<NA>}     {conf/3dica}  \n3DUI                        {<NA>}             {<NA>}      {conf/3dui}  \n3DV                         {<NA>}             {<NA>}      {conf/3dim}  \n3GSE                        {<NA>}             {<NA>}       {conf/uss}  \n...                            ...                ...              ...  \niNetSeC                     {<NA>}             {<NA>}  {conf/ifip11-4}  \niTAG                        {<NA>}             {<NA>}      {conf/itag}  \nicSPORTS                    {<NA>}             {<NA>}  {conf/icsports}  \niiWAS                       {<NA>}             {<NA>}     {conf/iiwas}  \njAUTI                       {<NA>}             {<NA>}     {conf/jauti}  \n\n[1940 rows x 5 columns]",
      "text/html": "<div>\n<style scoped>\n    .dataframe tbody tr th:only-of-type {\n        vertical-align: middle;\n    }\n\n    .dataframe tbody tr th {\n        vertical-align: top;\n    }\n\n    .dataframe thead th {\n        text-align: right;\n    }\n</style>\n<table border=\"1\" class=\"dataframe\">\n  <thead>\n    <tr style=\"text-align: right;\">\n      <th></th>\n      <th>conf_labels</th>\n      <th>series_labels</th>\n      <th>beginnings</th>\n      <th>WikiCFP_identifier</th>\n      <th>DBLP_identifier</th>\n    </tr>\n    <tr>\n      <th>short_name</th>\n      <th></th>\n      <th></th>\n      <th></th>\n      <th></th>\n      <th></th>\n    </tr>\n  </thead>\n  <tbody>\n    <tr>\n      <th>*SEM</th>\n      <td>{The Eighth Joint Conference on Lexical and Co...</td>\n      <td>{Joint Conference on Lexical and Computational...</td>\n      <td>{&lt;NA&gt;}</td>\n      <td>{&lt;NA&gt;}</td>\n      <td>{conf/starsem}</td>\n    </tr>\n    <tr>\n      <th>3DIPM</th>\n      <td>{Leveraging the Semantics of Topic Maps, Secon...</td>\n      <td>{Three-Dimensional Image Processing, Measureme...</td>\n      <td>{1998-01-01T00:00:00Z}</td>\n      <td>{&lt;NA&gt;}</td>\n      <td>{conf/3dica}</td>\n    </tr>\n    <tr>\n      <th>3DUI</th>\n      <td>{3DUI 2006, 3DUI 2016, 3DUI 2019, 3DUI 2018, 3...</td>\n      <td>{IEEE Symposium on 3D User Interfaces}</td>\n      <td>{&lt;NA&gt;}</td>\n      <td>{&lt;NA&gt;}</td>\n      <td>{conf/3dui}</td>\n    </tr>\n    <tr>\n      <th>3DV</th>\n      <td>{Fourth International Conference on 3D Vision,...</td>\n      <td>{International Conference on 3D Vision}</td>\n      <td>{&lt;NA&gt;}</td>\n      <td>{&lt;NA&gt;}</td>\n      <td>{conf/3dim}</td>\n    </tr>\n    <tr>\n      <th>3GSE</th>\n      <td>{28th USENIX Security Symposium, USENIX Securi...</td>\n      <td>{USENIX Security Symposium}</td>\n      <td>{&lt;NA&gt;}</td>\n      <td>{&lt;NA&gt;}</td>\n      <td>{conf/uss}</td>\n    </tr>\n    <tr>\n      <th>...</th>\n      <td>...</td>\n      <td>...</td>\n      <td>...</td>\n      <td>...</td>\n      <td>...</td>\n    </tr>\n    <tr>\n      <th>iNetSeC</th>\n      <td>{Geospatial Free and Open Source Software in t...</td>\n      <td>{Open Research Problems in Network Security}</td>\n      <td>{&lt;NA&gt;}</td>\n      <td>{&lt;NA&gt;}</td>\n      <td>{conf/ifip11-4}</td>\n    </tr>\n    <tr>\n      <th>iTAG</th>\n      <td>{2014 International Conference on Interactive ...</td>\n      <td>{International Conference on Interactive Techn...</td>\n      <td>{&lt;NA&gt;}</td>\n      <td>{&lt;NA&gt;}</td>\n      <td>{conf/itag}</td>\n    </tr>\n    <tr>\n      <th>icSPORTS</th>\n      <td>{3rd International Congress on Sport Sciences ...</td>\n      <td>{International Congress on Sport Sciences Rese...</td>\n      <td>{&lt;NA&gt;}</td>\n      <td>{&lt;NA&gt;}</td>\n      <td>{conf/icsports}</td>\n    </tr>\n    <tr>\n      <th>iiWAS</th>\n      <td>{21st International Conference on Information ...</td>\n      <td>{International Conference on Information Integ...</td>\n      <td>{&lt;NA&gt;}</td>\n      <td>{&lt;NA&gt;}</td>\n      <td>{conf/iiwas}</td>\n    </tr>\n    <tr>\n      <th>jAUTI</th>\n      <td>{Applications and Usability of Interactive TV ...</td>\n      <td>{Iberoamerican Conference on Applications and ...</td>\n      <td>{&lt;NA&gt;}</td>\n      <td>{&lt;NA&gt;}</td>\n      <td>{conf/jauti}</td>\n    </tr>\n  </tbody>\n</table>\n<p>1940 rows × 5 columns</p>\n</div>"
     },
     "execution_count": 57,
     "metadata": {},
     "output_type": "execute_result"
    }
   ],
   "source": [
    "groupedby_shortname_df = df.groupby('short_name').agg(set)\n",
    "groupedby_shortname_df"
   ],
   "metadata": {
    "collapsed": false
   }
  },
  {
   "cell_type": "code",
   "execution_count": 58,
   "outputs": [],
   "source": [
    "groupedby_shortname_df = groupedby_shortname_df.assign(length = groupedby_shortname_df['series_labels'].apply(len))"
   ],
   "metadata": {
    "collapsed": false
   }
  },
  {
   "cell_type": "code",
   "execution_count": 59,
   "outputs": [
    {
     "data": {
      "text/plain": "                                                  conf_labels  \\\nshort_name                                                      \nACE         {International Conference on Advances in Compu...   \nACL         {ACL 2010, 56th Annual Meeting of the Associat...   \nACSAC       {ACSAC '20: Annual Computer Security Applicati...   \nAH          {User Modeling, Adaption and Personalization -...   \nAIM         {2018 IEEE/ASME International Conference on Ad...   \nAIPR        {International Conference on Artificial Intell...   \nBDA         {Big Data Analytics - 5th International Confer...   \nCCS         {2019 ACM SIGSAC Conference on Computer and Co...   \nCIC         {Eighth Color Imaging Conference: Color Scienc...   \nCISIS       {International Joint Conference SOCO'18-CISIS'...   \nCMC         {Cooperative Multimodal Communication, Second ...   \nCSWS        {Semantic Web and Web Science - 8th Chinese Co...   \nDH          {ALLC-ACH 2004, Digital Humanities 2012, ALLC-...   \nECBS        {Fifth European Conference on the Engineering ...   \nFG          {15th IEEE International Conference on Automat...   \nHIS         {13th International Conference on Hybrid Intel...   \nHPCA        {ACM SIGGRAPH/EUROGRAPHICS Symposium on Graphi...   \nHPCS        {2009 International Conference on High Perform...   \nHSI         {10th International Conference on Human System...   \nICAIS       {Artificial Intelligence and Security - 5th In...   \nICAT        {XXII International Symposium on Information, ...   \nICC         {International Conference on Internet of Thing...   \nICCC        {Second International Conference on Computatio...   \nICCIP       {4th International Conference on Communication...   \nICCS        {Sixth International Conference on Chemical St...   \nICDM        {Advances in Data Mining. Applications and The...   \nICEC        {Entertainment Computing - ICEC 2014 - 13th In...   \nICICS       {Information and Communications Security - 22n...   \nICIS        {16th IEEE/ACIS International Conference on Co...   \nICON        {9th IEEE International Conference on Networks...   \nICSC        {11th IEEE International Conference on Semanti...   \nICVS        {Computer Vision Systems - 11th International ...   \nIDC         {7th International Conference on Interaction D...   \nIHCI        {Seventh International Conference on Intellige...   \nISCO        {2016 10th International Conference on Intelli...   \nISI         {Pragmatische Aspekte beim Entwurf und Betrieb...   \nISPA        {8th International Symposium on Image and Sign...   \nITC         {2008 IEEE International Test Conference, ITC ...   \nIV          {2013 IEEE Intelligent Vehicles Symposium (IV)...   \nJIST        {Semantic Technology - 8th Joint International...   \nMCPR        {17th International Conference on Information ...   \nMobiSec     {Mobile Internet Security - First Internationa...   \nPROMISE     {PROMISE '20: 16th International Conference on...   \nPSC         {2019 24th OptoElectronics and Communications ...   \nSC          {Software Composition - 5th International Symp...   \nSDE         {SESPSDE'86: ACM SIGSOFT/SIGPLAN Software Engi...   \nSEC         {Information Security and Privacy Research - 2...   \nSSS         {Stabilization, Safety, and Security of Distri...   \nSoCC        {2007 IEEE International SOC Conference, Tampe...   \nWI          {2019 IEEE/WIC/ACM International Conference on...   \n\n                                                series_labels  \\\nshort_name                                                      \nACE         {Australasian Computing Education Conference, ...   \nACL         {Proceedings of the conference. Association fo...   \nACSAC       {Annual Computer Security Applications Confere...   \nAH          {Augmented Human International Conference, Int...   \nAIM         {IEEE International Conference on Advanced Int...   \nAIPR        {Artificial Intelligence and Pattern Recogniti...   \nBDA         {International Conference on Big Data Analytic...   \nCCS         {Circuits, Signals, and Systems, Conference on...   \nCIC         {Color Imaging Conference, International Confe...   \nCISIS       {Computational Intelligence in Security for In...   \nCMC         {International Conference on Membrane Computin...   \nCSWS        {China Semantic Web Symposium, Canadian Semant...   \nDH          {Digital Humanities, International Conference ...   \nECBS        {Annual IEEE International Conference and Work...   \nFG          {Formal Grammar, IEEE International Conference...   \nHIS         {International Conference on Health Informatio...   \nHPCA        {High Performance Computing and Applications, ...   \nHPCS        {International Symposium on High Performance C...   \nHSI         {International Conference on Human System Inte...   \nICAIS       {International Conference on Adaptive and Inte...   \nICAT        {International Symposium on Information, Commu...   \nICC         {International Conference on Communications, I...   \nICCC        {International Conference on Computational Cre...   \nICCIP       {International Conference on Critical Infrastr...   \nICCS        {International Conference on Computational Sci...   \nICDM        {Industrial Conference on Data Mining, IEEE In...   \nICEC        {International Conference on Evolutionary Comp...   \nICICS       {International Conference on Information and C...   \nICIS        {IEEE/ACIS International Conference on Compute...   \nICON        {IEEE International Conference on Networks, In...   \nICSC        {International Computer Science Conference, IE...   \nICVS        {International Conference on Virtual Storytell...   \nIDC         {International Symposium on Intelligent Distri...   \nIHCI        {Indian Conference on Human Computer Interacti...   \nISCO        {Information Systems Concepts, International C...   \nISI         {Intelligence and Security Informatics, Intern...   \nISPA        {International Symposium on Image and Signal P...   \nITC         {International Test Conference, Conference on ...   \nIV          {International Conference on Information Visua...   \nJIST        {Joint International Conference of Semantic Te...   \nMCPR        {MCPR Workshops, Mexican Conference on Pattern...   \nMobiSec     {International Symposium on Mobile Internet Se...   \nPROMISE     {International Conference on Predictive Models...   \nPSC         {Photonics in Switching and Computing, Prague ...   \nSC          {Metainformatics, International Conference on ...   \nSDE         {ACM SIGSOFT/SIGPLAN Software Engineering Symp...   \nSEC         {IFIP International Information Security Confe...   \nSSS         {International Symposium on Self-Stabilizing S...   \nSoCC        {Annual IEEE International System-on-Chip Conf...   \nWI          {International Conference on Wirtschaftsinform...   \n\n                                                   beginnings  \\\nshort_name                                                      \nACE                              {2004-01-01T00:00:00Z, <NA>}   \nACL                                                    {<NA>}   \nACSAC                                                  {<NA>}   \nAH                                                     {<NA>}   \nAIM                                                    {<NA>}   \nAIPR                                                   {<NA>}   \nBDA                              {1985-01-01T00:00:00Z, <NA>}   \nCCS                              {1993-01-01T00:00:00Z, <NA>}   \nCIC                              {2015-01-01T00:00:00Z, <NA>}   \nCISIS                                                  {<NA>}   \nCMC                                                    {<NA>}   \nCSWS                                                   {<NA>}   \nDH               {1989-01-01T00:00:00Z, 2008-01-01T00:00:00Z}   \nECBS                             {2009-01-01T00:00:00Z, <NA>}   \nFG                                                     {<NA>}   \nHIS                                                    {<NA>}   \nHPCA             {2004-01-01T00:00:00Z, 1995-01-01T00:00:00Z}   \nHPCS                                                   {<NA>}   \nHSI                              {2001-01-01T00:00:00Z, <NA>}   \nICAIS                            {2015-01-01T00:00:00Z, <NA>}   \nICAT                                                   {<NA>}   \nICC                                                    {<NA>}   \nICCC        {1972-01-01T00:00:00Z, 2010-01-01T00:00:00Z, <...   \nICCIP                            {2015-01-01T00:00:00Z, <NA>}   \nICCS                             {1987-01-01T00:00:00Z, <NA>}   \nICDM                             {2001-01-01T00:00:00Z, <NA>}   \nICEC                                                   {<NA>}   \nICICS                            {1997-01-01T00:00:00Z, <NA>}   \nICIS                                                   {<NA>}   \nICON                                                   {<NA>}   \nICSC                             {2007-01-01T00:00:00Z, <NA>}   \nICVS                                                   {<NA>}   \nIDC                                                    {<NA>}   \nIHCI                                                   {<NA>}   \nISCO                                                   {<NA>}   \nISI         {<NA>, 2012-01-01T00:00:00Z, 1990-01-01T00:00:...   \nISPA                             {2003-01-01T00:00:00Z, <NA>}   \nITC                              {2005-01-01T00:00:00Z, <NA>}   \nIV                               {1997-01-01T00:00:00Z, <NA>}   \nJIST                                                   {<NA>}   \nMCPR                                                   {<NA>}   \nMobiSec                                                {<NA>}   \nPROMISE                                                {<NA>}   \nPSC                                                    {<NA>}   \nSC                                                     {<NA>}   \nSDE                                                    {<NA>}   \nSEC                                                    {<NA>}   \nSSS                                                    {<NA>}   \nSoCC                                                   {<NA>}   \nWI                               {1993-01-01T00:00:00Z, <NA>}   \n\n            WikiCFP_identifier                           DBLP_identifier  \\\nshort_name                                                                 \nACE                   {24, 23}                   {conf/ACMace, conf/ace}   \nACL                 {37, <NA>}                          {conf/acl, <NA>}   \nACSAC                 {46, 45}                 {conf/acsac, conf/aPcsac}   \nAH                    {90, 89}                  {conf/aughuman, conf/ah}   \nAIM                     {<NA>}                   {conf/aim, conf/aimech}   \nAIPR               {117, <NA>}                  {conf/aipr2, conf/aiprf}   \nBDA                     {<NA>}                    {conf/bigda, conf/bda}   \nCCS                {399, <NA>}                {conf/iastedCCS, conf/ccs}   \nCIC                {449, <NA>}               {conf/coinco, conf/imaging}   \nCISIS               {473, 474}            {conf/cisis, conf/cisis-spain}   \nCMC                     {<NA>}                 {conf/cmc, conf/membrane}   \nCSWS                    {<NA>}                  {conf/csemws, conf/csws}   \nDH                 {863, <NA>}                 {conf/ehealth, conf/dihu}   \nECBS               {795, <NA>}                {conf/ecbs, conf/ecbseerc}   \nFG                {1029, <NA>}                       {conf/fgr, conf/fg}   \nHIS               {1195, 1196}                     {conf/his2, conf/his}   \nHPCA              {1220, <NA>}                  {conf/cnhpca, conf/hpca}   \nHPCS                    {<NA>}                {conf/hpcs, conf/ieeehpcs}   \nHSI                     {<NA>}                    {conf/hsi, conf/human}   \nICAIS             {1276, <NA>}                {conf/icais, conf/icccsec}   \nICAT                    {<NA>}                 {conf/icatech, conf/icat}   \nICC               {1294, <NA>}                   {conf/icc, conf/iotdcc}   \nICCC                    {<NA>}  {conf/iccchina, conf/icccrea, conf/iccc}   \nICCIP                   {<NA>}              {conf/iccip, conf/ifip11-10}   \nICCS        {1321, 1320, <NA>}              {conf/iccS, conf/iccs, <NA>}   \nICDM              {1337, 1336}                   {conf/incdm, conf/icdm}   \nICEC        {1345, <NA>, 1346}      {conf/ACMicec, conf/iwec, conf/icec}   \nICICS             {1385, <NA>}              {conf/IEEEicics, conf/icics}   \nICIS              {1393, <NA>}            {conf/ACISicis, conf/ISCAicis}   \nICON              {1437, <NA>}                {conf/icon, conf/icon-nlp}   \nICSC              {1460, <NA>}                   {conf/icsc, conf/semco}   \nICVS              {1501, <NA>}            {conf/storytelling, conf/icvs}   \nIDC               {1520, 1521}                   {conf/idc, conf/acmidc}   \nIHCI              {1550, <NA>}                   {conf/ihci, conf/inhci}   \nISCO                    {<NA>}                         {conf/isco, <NA>}   \nISI               {1711, <NA>}  {conf/intelligent, conf/isi, conf/isiwi}   \nISPA              {1738, <NA>}                   {conf/imspa, conf/ispa}   \nITC               {1405, 1779}                    {conf/itc, conf/icits}   \nIV                {1804, 1803}                       {conf/iv, conf/ivs}   \nJIST                    {<NA>}                         {conf/jist, <NA>}   \nMCPR                    {<NA>}                   {conf/mcpr2, conf/mcpr}   \nMobiSec                 {<NA>}             {conf/mobisec2, conf/mobisec}   \nPROMISE                 {<NA>}            {conf/promise, conf/promisews}   \nPSC                     {<NA>}               {conf/ps, conf/stringology}   \nSC                      {<NA>}         {conf/metainformatics, conf/soco}   \nSDE                     {<NA>}                    {conf/sde, conf/sdiev}   \nSEC                     {<NA>}                     {conf/edge, conf/sec}   \nSSS                     {<NA>}                     {conf/sss, conf/scss}   \nSoCC              {<NA>, 2721}                   {conf/socc, conf/cloud}   \nWI                {3061, <NA>}   {conf/webi, conf/wirtschaftsinformatik}   \n\n            length  \nshort_name          \nACE              2  \nACL              2  \nACSAC            2  \nAH               2  \nAIM              2  \nAIPR             2  \nBDA              2  \nCCS              2  \nCIC              2  \nCISIS            2  \nCMC              2  \nCSWS             2  \nDH               2  \nECBS             2  \nFG               2  \nHIS              2  \nHPCA             2  \nHPCS             2  \nHSI              2  \nICAIS            2  \nICAT             2  \nICC              2  \nICCC             3  \nICCIP            2  \nICCS             3  \nICDM             2  \nICEC             3  \nICICS            2  \nICIS             2  \nICON             2  \nICSC             2  \nICVS             2  \nIDC              2  \nIHCI             2  \nISCO             2  \nISI              3  \nISPA             2  \nITC              2  \nIV               2  \nJIST             2  \nMCPR             2  \nMobiSec          2  \nPROMISE          2  \nPSC              2  \nSC               2  \nSDE              2  \nSEC              2  \nSSS              2  \nSoCC             2  \nWI               2  ",
      "text/html": "<div>\n<style scoped>\n    .dataframe tbody tr th:only-of-type {\n        vertical-align: middle;\n    }\n\n    .dataframe tbody tr th {\n        vertical-align: top;\n    }\n\n    .dataframe thead th {\n        text-align: right;\n    }\n</style>\n<table border=\"1\" class=\"dataframe\">\n  <thead>\n    <tr style=\"text-align: right;\">\n      <th></th>\n      <th>conf_labels</th>\n      <th>series_labels</th>\n      <th>beginnings</th>\n      <th>WikiCFP_identifier</th>\n      <th>DBLP_identifier</th>\n      <th>length</th>\n    </tr>\n    <tr>\n      <th>short_name</th>\n      <th></th>\n      <th></th>\n      <th></th>\n      <th></th>\n      <th></th>\n      <th></th>\n    </tr>\n  </thead>\n  <tbody>\n    <tr>\n      <th>ACE</th>\n      <td>{International Conference on Advances in Compu...</td>\n      <td>{Australasian Computing Education Conference, ...</td>\n      <td>{2004-01-01T00:00:00Z, &lt;NA&gt;}</td>\n      <td>{24, 23}</td>\n      <td>{conf/ACMace, conf/ace}</td>\n      <td>2</td>\n    </tr>\n    <tr>\n      <th>ACL</th>\n      <td>{ACL 2010, 56th Annual Meeting of the Associat...</td>\n      <td>{Proceedings of the conference. Association fo...</td>\n      <td>{&lt;NA&gt;}</td>\n      <td>{37, &lt;NA&gt;}</td>\n      <td>{conf/acl, &lt;NA&gt;}</td>\n      <td>2</td>\n    </tr>\n    <tr>\n      <th>ACSAC</th>\n      <td>{ACSAC '20: Annual Computer Security Applicati...</td>\n      <td>{Annual Computer Security Applications Confere...</td>\n      <td>{&lt;NA&gt;}</td>\n      <td>{46, 45}</td>\n      <td>{conf/acsac, conf/aPcsac}</td>\n      <td>2</td>\n    </tr>\n    <tr>\n      <th>AH</th>\n      <td>{User Modeling, Adaption and Personalization -...</td>\n      <td>{Augmented Human International Conference, Int...</td>\n      <td>{&lt;NA&gt;}</td>\n      <td>{90, 89}</td>\n      <td>{conf/aughuman, conf/ah}</td>\n      <td>2</td>\n    </tr>\n    <tr>\n      <th>AIM</th>\n      <td>{2018 IEEE/ASME International Conference on Ad...</td>\n      <td>{IEEE International Conference on Advanced Int...</td>\n      <td>{&lt;NA&gt;}</td>\n      <td>{&lt;NA&gt;}</td>\n      <td>{conf/aim, conf/aimech}</td>\n      <td>2</td>\n    </tr>\n    <tr>\n      <th>AIPR</th>\n      <td>{International Conference on Artificial Intell...</td>\n      <td>{Artificial Intelligence and Pattern Recogniti...</td>\n      <td>{&lt;NA&gt;}</td>\n      <td>{117, &lt;NA&gt;}</td>\n      <td>{conf/aipr2, conf/aiprf}</td>\n      <td>2</td>\n    </tr>\n    <tr>\n      <th>BDA</th>\n      <td>{Big Data Analytics - 5th International Confer...</td>\n      <td>{International Conference on Big Data Analytic...</td>\n      <td>{1985-01-01T00:00:00Z, &lt;NA&gt;}</td>\n      <td>{&lt;NA&gt;}</td>\n      <td>{conf/bigda, conf/bda}</td>\n      <td>2</td>\n    </tr>\n    <tr>\n      <th>CCS</th>\n      <td>{2019 ACM SIGSAC Conference on Computer and Co...</td>\n      <td>{Circuits, Signals, and Systems, Conference on...</td>\n      <td>{1993-01-01T00:00:00Z, &lt;NA&gt;}</td>\n      <td>{399, &lt;NA&gt;}</td>\n      <td>{conf/iastedCCS, conf/ccs}</td>\n      <td>2</td>\n    </tr>\n    <tr>\n      <th>CIC</th>\n      <td>{Eighth Color Imaging Conference: Color Scienc...</td>\n      <td>{Color Imaging Conference, International Confe...</td>\n      <td>{2015-01-01T00:00:00Z, &lt;NA&gt;}</td>\n      <td>{449, &lt;NA&gt;}</td>\n      <td>{conf/coinco, conf/imaging}</td>\n      <td>2</td>\n    </tr>\n    <tr>\n      <th>CISIS</th>\n      <td>{International Joint Conference SOCO'18-CISIS'...</td>\n      <td>{Computational Intelligence in Security for In...</td>\n      <td>{&lt;NA&gt;}</td>\n      <td>{473, 474}</td>\n      <td>{conf/cisis, conf/cisis-spain}</td>\n      <td>2</td>\n    </tr>\n    <tr>\n      <th>CMC</th>\n      <td>{Cooperative Multimodal Communication, Second ...</td>\n      <td>{International Conference on Membrane Computin...</td>\n      <td>{&lt;NA&gt;}</td>\n      <td>{&lt;NA&gt;}</td>\n      <td>{conf/cmc, conf/membrane}</td>\n      <td>2</td>\n    </tr>\n    <tr>\n      <th>CSWS</th>\n      <td>{Semantic Web and Web Science - 8th Chinese Co...</td>\n      <td>{China Semantic Web Symposium, Canadian Semant...</td>\n      <td>{&lt;NA&gt;}</td>\n      <td>{&lt;NA&gt;}</td>\n      <td>{conf/csemws, conf/csws}</td>\n      <td>2</td>\n    </tr>\n    <tr>\n      <th>DH</th>\n      <td>{ALLC-ACH 2004, Digital Humanities 2012, ALLC-...</td>\n      <td>{Digital Humanities, International Conference ...</td>\n      <td>{1989-01-01T00:00:00Z, 2008-01-01T00:00:00Z}</td>\n      <td>{863, &lt;NA&gt;}</td>\n      <td>{conf/ehealth, conf/dihu}</td>\n      <td>2</td>\n    </tr>\n    <tr>\n      <th>ECBS</th>\n      <td>{Fifth European Conference on the Engineering ...</td>\n      <td>{Annual IEEE International Conference and Work...</td>\n      <td>{2009-01-01T00:00:00Z, &lt;NA&gt;}</td>\n      <td>{795, &lt;NA&gt;}</td>\n      <td>{conf/ecbs, conf/ecbseerc}</td>\n      <td>2</td>\n    </tr>\n    <tr>\n      <th>FG</th>\n      <td>{15th IEEE International Conference on Automat...</td>\n      <td>{Formal Grammar, IEEE International Conference...</td>\n      <td>{&lt;NA&gt;}</td>\n      <td>{1029, &lt;NA&gt;}</td>\n      <td>{conf/fgr, conf/fg}</td>\n      <td>2</td>\n    </tr>\n    <tr>\n      <th>HIS</th>\n      <td>{13th International Conference on Hybrid Intel...</td>\n      <td>{International Conference on Health Informatio...</td>\n      <td>{&lt;NA&gt;}</td>\n      <td>{1195, 1196}</td>\n      <td>{conf/his2, conf/his}</td>\n      <td>2</td>\n    </tr>\n    <tr>\n      <th>HPCA</th>\n      <td>{ACM SIGGRAPH/EUROGRAPHICS Symposium on Graphi...</td>\n      <td>{High Performance Computing and Applications, ...</td>\n      <td>{2004-01-01T00:00:00Z, 1995-01-01T00:00:00Z}</td>\n      <td>{1220, &lt;NA&gt;}</td>\n      <td>{conf/cnhpca, conf/hpca}</td>\n      <td>2</td>\n    </tr>\n    <tr>\n      <th>HPCS</th>\n      <td>{2009 International Conference on High Perform...</td>\n      <td>{International Symposium on High Performance C...</td>\n      <td>{&lt;NA&gt;}</td>\n      <td>{&lt;NA&gt;}</td>\n      <td>{conf/hpcs, conf/ieeehpcs}</td>\n      <td>2</td>\n    </tr>\n    <tr>\n      <th>HSI</th>\n      <td>{10th International Conference on Human System...</td>\n      <td>{International Conference on Human System Inte...</td>\n      <td>{2001-01-01T00:00:00Z, &lt;NA&gt;}</td>\n      <td>{&lt;NA&gt;}</td>\n      <td>{conf/hsi, conf/human}</td>\n      <td>2</td>\n    </tr>\n    <tr>\n      <th>ICAIS</th>\n      <td>{Artificial Intelligence and Security - 5th In...</td>\n      <td>{International Conference on Adaptive and Inte...</td>\n      <td>{2015-01-01T00:00:00Z, &lt;NA&gt;}</td>\n      <td>{1276, &lt;NA&gt;}</td>\n      <td>{conf/icais, conf/icccsec}</td>\n      <td>2</td>\n    </tr>\n    <tr>\n      <th>ICAT</th>\n      <td>{XXII International Symposium on Information, ...</td>\n      <td>{International Symposium on Information, Commu...</td>\n      <td>{&lt;NA&gt;}</td>\n      <td>{&lt;NA&gt;}</td>\n      <td>{conf/icatech, conf/icat}</td>\n      <td>2</td>\n    </tr>\n    <tr>\n      <th>ICC</th>\n      <td>{International Conference on Internet of Thing...</td>\n      <td>{International Conference on Communications, I...</td>\n      <td>{&lt;NA&gt;}</td>\n      <td>{1294, &lt;NA&gt;}</td>\n      <td>{conf/icc, conf/iotdcc}</td>\n      <td>2</td>\n    </tr>\n    <tr>\n      <th>ICCC</th>\n      <td>{Second International Conference on Computatio...</td>\n      <td>{International Conference on Computational Cre...</td>\n      <td>{1972-01-01T00:00:00Z, 2010-01-01T00:00:00Z, &lt;...</td>\n      <td>{&lt;NA&gt;}</td>\n      <td>{conf/iccchina, conf/icccrea, conf/iccc}</td>\n      <td>3</td>\n    </tr>\n    <tr>\n      <th>ICCIP</th>\n      <td>{4th International Conference on Communication...</td>\n      <td>{International Conference on Critical Infrastr...</td>\n      <td>{2015-01-01T00:00:00Z, &lt;NA&gt;}</td>\n      <td>{&lt;NA&gt;}</td>\n      <td>{conf/iccip, conf/ifip11-10}</td>\n      <td>2</td>\n    </tr>\n    <tr>\n      <th>ICCS</th>\n      <td>{Sixth International Conference on Chemical St...</td>\n      <td>{International Conference on Computational Sci...</td>\n      <td>{1987-01-01T00:00:00Z, &lt;NA&gt;}</td>\n      <td>{1321, 1320, &lt;NA&gt;}</td>\n      <td>{conf/iccS, conf/iccs, &lt;NA&gt;}</td>\n      <td>3</td>\n    </tr>\n    <tr>\n      <th>ICDM</th>\n      <td>{Advances in Data Mining. Applications and The...</td>\n      <td>{Industrial Conference on Data Mining, IEEE In...</td>\n      <td>{2001-01-01T00:00:00Z, &lt;NA&gt;}</td>\n      <td>{1337, 1336}</td>\n      <td>{conf/incdm, conf/icdm}</td>\n      <td>2</td>\n    </tr>\n    <tr>\n      <th>ICEC</th>\n      <td>{Entertainment Computing - ICEC 2014 - 13th In...</td>\n      <td>{International Conference on Evolutionary Comp...</td>\n      <td>{&lt;NA&gt;}</td>\n      <td>{1345, &lt;NA&gt;, 1346}</td>\n      <td>{conf/ACMicec, conf/iwec, conf/icec}</td>\n      <td>3</td>\n    </tr>\n    <tr>\n      <th>ICICS</th>\n      <td>{Information and Communications Security - 22n...</td>\n      <td>{International Conference on Information and C...</td>\n      <td>{1997-01-01T00:00:00Z, &lt;NA&gt;}</td>\n      <td>{1385, &lt;NA&gt;}</td>\n      <td>{conf/IEEEicics, conf/icics}</td>\n      <td>2</td>\n    </tr>\n    <tr>\n      <th>ICIS</th>\n      <td>{16th IEEE/ACIS International Conference on Co...</td>\n      <td>{IEEE/ACIS International Conference on Compute...</td>\n      <td>{&lt;NA&gt;}</td>\n      <td>{1393, &lt;NA&gt;}</td>\n      <td>{conf/ACISicis, conf/ISCAicis}</td>\n      <td>2</td>\n    </tr>\n    <tr>\n      <th>ICON</th>\n      <td>{9th IEEE International Conference on Networks...</td>\n      <td>{IEEE International Conference on Networks, In...</td>\n      <td>{&lt;NA&gt;}</td>\n      <td>{1437, &lt;NA&gt;}</td>\n      <td>{conf/icon, conf/icon-nlp}</td>\n      <td>2</td>\n    </tr>\n    <tr>\n      <th>ICSC</th>\n      <td>{11th IEEE International Conference on Semanti...</td>\n      <td>{International Computer Science Conference, IE...</td>\n      <td>{2007-01-01T00:00:00Z, &lt;NA&gt;}</td>\n      <td>{1460, &lt;NA&gt;}</td>\n      <td>{conf/icsc, conf/semco}</td>\n      <td>2</td>\n    </tr>\n    <tr>\n      <th>ICVS</th>\n      <td>{Computer Vision Systems - 11th International ...</td>\n      <td>{International Conference on Virtual Storytell...</td>\n      <td>{&lt;NA&gt;}</td>\n      <td>{1501, &lt;NA&gt;}</td>\n      <td>{conf/storytelling, conf/icvs}</td>\n      <td>2</td>\n    </tr>\n    <tr>\n      <th>IDC</th>\n      <td>{7th International Conference on Interaction D...</td>\n      <td>{International Symposium on Intelligent Distri...</td>\n      <td>{&lt;NA&gt;}</td>\n      <td>{1520, 1521}</td>\n      <td>{conf/idc, conf/acmidc}</td>\n      <td>2</td>\n    </tr>\n    <tr>\n      <th>IHCI</th>\n      <td>{Seventh International Conference on Intellige...</td>\n      <td>{Indian Conference on Human Computer Interacti...</td>\n      <td>{&lt;NA&gt;}</td>\n      <td>{1550, &lt;NA&gt;}</td>\n      <td>{conf/ihci, conf/inhci}</td>\n      <td>2</td>\n    </tr>\n    <tr>\n      <th>ISCO</th>\n      <td>{2016 10th International Conference on Intelli...</td>\n      <td>{Information Systems Concepts, International C...</td>\n      <td>{&lt;NA&gt;}</td>\n      <td>{&lt;NA&gt;}</td>\n      <td>{conf/isco, &lt;NA&gt;}</td>\n      <td>2</td>\n    </tr>\n    <tr>\n      <th>ISI</th>\n      <td>{Pragmatische Aspekte beim Entwurf und Betrieb...</td>\n      <td>{Intelligence and Security Informatics, Intern...</td>\n      <td>{&lt;NA&gt;, 2012-01-01T00:00:00Z, 1990-01-01T00:00:...</td>\n      <td>{1711, &lt;NA&gt;}</td>\n      <td>{conf/intelligent, conf/isi, conf/isiwi}</td>\n      <td>3</td>\n    </tr>\n    <tr>\n      <th>ISPA</th>\n      <td>{8th International Symposium on Image and Sign...</td>\n      <td>{International Symposium on Image and Signal P...</td>\n      <td>{2003-01-01T00:00:00Z, &lt;NA&gt;}</td>\n      <td>{1738, &lt;NA&gt;}</td>\n      <td>{conf/imspa, conf/ispa}</td>\n      <td>2</td>\n    </tr>\n    <tr>\n      <th>ITC</th>\n      <td>{2008 IEEE International Test Conference, ITC ...</td>\n      <td>{International Test Conference, Conference on ...</td>\n      <td>{2005-01-01T00:00:00Z, &lt;NA&gt;}</td>\n      <td>{1405, 1779}</td>\n      <td>{conf/itc, conf/icits}</td>\n      <td>2</td>\n    </tr>\n    <tr>\n      <th>IV</th>\n      <td>{2013 IEEE Intelligent Vehicles Symposium (IV)...</td>\n      <td>{International Conference on Information Visua...</td>\n      <td>{1997-01-01T00:00:00Z, &lt;NA&gt;}</td>\n      <td>{1804, 1803}</td>\n      <td>{conf/iv, conf/ivs}</td>\n      <td>2</td>\n    </tr>\n    <tr>\n      <th>JIST</th>\n      <td>{Semantic Technology - 8th Joint International...</td>\n      <td>{Joint International Conference of Semantic Te...</td>\n      <td>{&lt;NA&gt;}</td>\n      <td>{&lt;NA&gt;}</td>\n      <td>{conf/jist, &lt;NA&gt;}</td>\n      <td>2</td>\n    </tr>\n    <tr>\n      <th>MCPR</th>\n      <td>{17th International Conference on Information ...</td>\n      <td>{MCPR Workshops, Mexican Conference on Pattern...</td>\n      <td>{&lt;NA&gt;}</td>\n      <td>{&lt;NA&gt;}</td>\n      <td>{conf/mcpr2, conf/mcpr}</td>\n      <td>2</td>\n    </tr>\n    <tr>\n      <th>MobiSec</th>\n      <td>{Mobile Internet Security - First Internationa...</td>\n      <td>{International Symposium on Mobile Internet Se...</td>\n      <td>{&lt;NA&gt;}</td>\n      <td>{&lt;NA&gt;}</td>\n      <td>{conf/mobisec2, conf/mobisec}</td>\n      <td>2</td>\n    </tr>\n    <tr>\n      <th>PROMISE</th>\n      <td>{PROMISE '20: 16th International Conference on...</td>\n      <td>{International Conference on Predictive Models...</td>\n      <td>{&lt;NA&gt;}</td>\n      <td>{&lt;NA&gt;}</td>\n      <td>{conf/promise, conf/promisews}</td>\n      <td>2</td>\n    </tr>\n    <tr>\n      <th>PSC</th>\n      <td>{2019 24th OptoElectronics and Communications ...</td>\n      <td>{Photonics in Switching and Computing, Prague ...</td>\n      <td>{&lt;NA&gt;}</td>\n      <td>{&lt;NA&gt;}</td>\n      <td>{conf/ps, conf/stringology}</td>\n      <td>2</td>\n    </tr>\n    <tr>\n      <th>SC</th>\n      <td>{Software Composition - 5th International Symp...</td>\n      <td>{Metainformatics, International Conference on ...</td>\n      <td>{&lt;NA&gt;}</td>\n      <td>{&lt;NA&gt;}</td>\n      <td>{conf/metainformatics, conf/soco}</td>\n      <td>2</td>\n    </tr>\n    <tr>\n      <th>SDE</th>\n      <td>{SESPSDE'86: ACM SIGSOFT/SIGPLAN Software Engi...</td>\n      <td>{ACM SIGSOFT/SIGPLAN Software Engineering Symp...</td>\n      <td>{&lt;NA&gt;}</td>\n      <td>{&lt;NA&gt;}</td>\n      <td>{conf/sde, conf/sdiev}</td>\n      <td>2</td>\n    </tr>\n    <tr>\n      <th>SEC</th>\n      <td>{Information Security and Privacy Research - 2...</td>\n      <td>{IFIP International Information Security Confe...</td>\n      <td>{&lt;NA&gt;}</td>\n      <td>{&lt;NA&gt;}</td>\n      <td>{conf/edge, conf/sec}</td>\n      <td>2</td>\n    </tr>\n    <tr>\n      <th>SSS</th>\n      <td>{Stabilization, Safety, and Security of Distri...</td>\n      <td>{International Symposium on Self-Stabilizing S...</td>\n      <td>{&lt;NA&gt;}</td>\n      <td>{&lt;NA&gt;}</td>\n      <td>{conf/sss, conf/scss}</td>\n      <td>2</td>\n    </tr>\n    <tr>\n      <th>SoCC</th>\n      <td>{2007 IEEE International SOC Conference, Tampe...</td>\n      <td>{Annual IEEE International System-on-Chip Conf...</td>\n      <td>{&lt;NA&gt;}</td>\n      <td>{&lt;NA&gt;, 2721}</td>\n      <td>{conf/socc, conf/cloud}</td>\n      <td>2</td>\n    </tr>\n    <tr>\n      <th>WI</th>\n      <td>{2019 IEEE/WIC/ACM International Conference on...</td>\n      <td>{International Conference on Wirtschaftsinform...</td>\n      <td>{1993-01-01T00:00:00Z, &lt;NA&gt;}</td>\n      <td>{3061, &lt;NA&gt;}</td>\n      <td>{conf/webi, conf/wirtschaftsinformatik}</td>\n      <td>2</td>\n    </tr>\n  </tbody>\n</table>\n</div>"
     },
     "execution_count": 59,
     "metadata": {},
     "output_type": "execute_result"
    }
   ],
   "source": [
    "groupedby_shortname_df.loc[groupedby_shortname_df['length'] > 1]"
   ],
   "metadata": {
    "collapsed": false
   }
  },
  {
   "cell_type": "code",
   "execution_count": null,
   "outputs": [],
   "source": [],
   "metadata": {
    "collapsed": false
   }
  }
 ],
 "metadata": {
  "kernelspec": {
   "display_name": "Python 3",
   "language": "python",
   "name": "python3"
  },
  "language_info": {
   "codemirror_mode": {
    "name": "ipython",
    "version": 2
   },
   "file_extension": ".py",
   "mimetype": "text/x-python",
   "name": "python",
   "nbconvert_exporter": "python",
   "pygments_lexer": "ipython2",
   "version": "2.7.6"
  }
 },
 "nbformat": 4,
 "nbformat_minor": 0
}
