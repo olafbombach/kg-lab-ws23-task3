{
 "cells": [
  {
   "cell_type": "code",
   "execution_count": 85,
   "metadata": {
    "collapsed": true
   },
   "outputs": [],
   "source": [
    "import numpy as np\n",
    "import pandas as pd\n",
    "from wikidataquery import WikidataQuery"
   ]
  },
  {
   "cell_type": "markdown",
   "source": [
    "## First let's search for all proceedings on Wikidata that have the property P31 which is 'instance of'"
   ],
   "metadata": {
    "collapsed": false
   }
  },
  {
   "cell_type": "code",
   "execution_count": 86,
   "outputs": [],
   "source": [
    "temp = WikidataQuery.queryWikiData('''SELECT ?proceeding ?proceedingLabel ?series ?seriesLabel\n",
    "WHERE {\n",
    "  ?proceeding wdt:P31 wd:Q1143604.\n",
    "  ?proceeding wdt:P179 ?series\n",
    "  SERVICE wikibase:label { bd:serviceParam wikibase:language \"[AUTO_LANGUAGE],en\". }\n",
    "}''')"
   ],
   "metadata": {
    "collapsed": false
   }
  },
  {
   "cell_type": "code",
   "execution_count": 87,
   "outputs": [],
   "source": [
    "# untangling the results in order to get a dataframe\n",
    "\n",
    "results = temp['results']['bindings']\n",
    "proc_entity = np.array([result['proceeding']['value'].split('entity/')[1] for result in results])\n",
    "proc_labels = np.array([result['proceedingLabel']['value'] for result in results])\n",
    "series_entity = np.array([result['series']['value'].split('entity/')[1] for result in results])\n",
    "series_labels = np.array([result['seriesLabel']['value'] for result in results])"
   ],
   "metadata": {
    "collapsed": false
   }
  },
  {
   "cell_type": "code",
   "execution_count": 88,
   "outputs": [
    {
     "data": {
      "text/plain": "     proc_entity                                        proc_labels  \\\n4515   Q21898129            Advances in Cryptology — EUROCRYPT 2005   \n734   Q113542117  Joint Proceedings of the 2nd International Wor...   \n2648  Q113543240  Anais do III Congresso sobre Tecnologias na Ed...   \n2314  Q113545332  Proceedings of the 1st CUBIST (Combining and U...   \n3804  Q115118105  Proceedings of the NetSciLA 2022 Workshop \"Net...   \n...          ...                                                ...   \n1419  Q113542593  WiP Proceedings of the International Conferenc...   \n1313  Q113544648  Proceedings of the First DIACHRON Workshop on ...   \n291   Q113541760  Proceedings of the 20th Belgium-Netherlands So...   \n4461   Q58821196  Proceedings of the 10th International Conferen...   \n1815  Q113544987  Proceedings of the CHItaly 2013 Doctoral Conso...   \n\n     series_entity                      series_labels  \n4515       Q924044  Lecture Notes in Computer Science  \n734      Q27230297          CEUR Workshop Proceedings  \n2648     Q27230297          CEUR Workshop Proceedings  \n2314     Q27230297          CEUR Workshop Proceedings  \n3804     Q27230297          CEUR Workshop Proceedings  \n...            ...                                ...  \n1419     Q27230297          CEUR Workshop Proceedings  \n1313     Q27230297          CEUR Workshop Proceedings  \n291      Q27230297          CEUR Workshop Proceedings  \n4461     Q27230297          CEUR Workshop Proceedings  \n1815     Q27230297          CEUR Workshop Proceedings  \n\n[200 rows x 4 columns]",
      "text/html": "<div>\n<style scoped>\n    .dataframe tbody tr th:only-of-type {\n        vertical-align: middle;\n    }\n\n    .dataframe tbody tr th {\n        vertical-align: top;\n    }\n\n    .dataframe thead th {\n        text-align: right;\n    }\n</style>\n<table border=\"1\" class=\"dataframe\">\n  <thead>\n    <tr style=\"text-align: right;\">\n      <th></th>\n      <th>proc_entity</th>\n      <th>proc_labels</th>\n      <th>series_entity</th>\n      <th>series_labels</th>\n    </tr>\n  </thead>\n  <tbody>\n    <tr>\n      <th>4515</th>\n      <td>Q21898129</td>\n      <td>Advances in Cryptology — EUROCRYPT 2005</td>\n      <td>Q924044</td>\n      <td>Lecture Notes in Computer Science</td>\n    </tr>\n    <tr>\n      <th>734</th>\n      <td>Q113542117</td>\n      <td>Joint Proceedings of the 2nd International Wor...</td>\n      <td>Q27230297</td>\n      <td>CEUR Workshop Proceedings</td>\n    </tr>\n    <tr>\n      <th>2648</th>\n      <td>Q113543240</td>\n      <td>Anais do III Congresso sobre Tecnologias na Ed...</td>\n      <td>Q27230297</td>\n      <td>CEUR Workshop Proceedings</td>\n    </tr>\n    <tr>\n      <th>2314</th>\n      <td>Q113545332</td>\n      <td>Proceedings of the 1st CUBIST (Combining and U...</td>\n      <td>Q27230297</td>\n      <td>CEUR Workshop Proceedings</td>\n    </tr>\n    <tr>\n      <th>3804</th>\n      <td>Q115118105</td>\n      <td>Proceedings of the NetSciLA 2022 Workshop \"Net...</td>\n      <td>Q27230297</td>\n      <td>CEUR Workshop Proceedings</td>\n    </tr>\n    <tr>\n      <th>...</th>\n      <td>...</td>\n      <td>...</td>\n      <td>...</td>\n      <td>...</td>\n    </tr>\n    <tr>\n      <th>1419</th>\n      <td>Q113542593</td>\n      <td>WiP Proceedings of the International Conferenc...</td>\n      <td>Q27230297</td>\n      <td>CEUR Workshop Proceedings</td>\n    </tr>\n    <tr>\n      <th>1313</th>\n      <td>Q113544648</td>\n      <td>Proceedings of the First DIACHRON Workshop on ...</td>\n      <td>Q27230297</td>\n      <td>CEUR Workshop Proceedings</td>\n    </tr>\n    <tr>\n      <th>291</th>\n      <td>Q113541760</td>\n      <td>Proceedings of the 20th Belgium-Netherlands So...</td>\n      <td>Q27230297</td>\n      <td>CEUR Workshop Proceedings</td>\n    </tr>\n    <tr>\n      <th>4461</th>\n      <td>Q58821196</td>\n      <td>Proceedings of the 10th International Conferen...</td>\n      <td>Q27230297</td>\n      <td>CEUR Workshop Proceedings</td>\n    </tr>\n    <tr>\n      <th>1815</th>\n      <td>Q113544987</td>\n      <td>Proceedings of the CHItaly 2013 Doctoral Conso...</td>\n      <td>Q27230297</td>\n      <td>CEUR Workshop Proceedings</td>\n    </tr>\n  </tbody>\n</table>\n<p>200 rows × 4 columns</p>\n</div>"
     },
     "execution_count": 88,
     "metadata": {},
     "output_type": "execute_result"
    }
   ],
   "source": [
    "# zip all arrays together to create a DataFrame // further read out 200 samples from the original 6742 (Stand 07.12.)\n",
    "\n",
    "together = zip(proc_entity, proc_labels, series_entity, series_labels)\n",
    "df = pd.DataFrame(together, columns=['proc_entity', 'proc_labels', 'series_entity', 'series_labels'])\n",
    "df.sample(200, random_state=42)"
   ],
   "metadata": {
    "collapsed": false
   }
  },
  {
   "cell_type": "markdown",
   "source": [
    "## Now let's consider the number of total academic conferences of Wikidata (P31='wissenschaftliche Konferenz')"
   ],
   "metadata": {
    "collapsed": false
   }
  },
  {
   "cell_type": "code",
   "execution_count": 89,
   "outputs": [],
   "source": [
    "temp2 = WikidataQuery.queryWikiData('''SELECT ?conferences ?conferencesLabel ?series ?seriesLabel\n",
    "WHERE {\n",
    "  ?conferences wdt:P31 wd:Q2020153.\n",
    "  ?conferences wdt:P179 ?series\n",
    "  SERVICE wikibase:label { bd:serviceParam wikibase:language \"[AUTO_LANGUAGE],en\". }\n",
    "}''')"
   ],
   "metadata": {
    "collapsed": false
   }
  },
  {
   "cell_type": "code",
   "execution_count": 90,
   "outputs": [],
   "source": [
    "# untangling the results in order to get a dataframe\n",
    "\n",
    "results = temp2['results']['bindings']\n",
    "conf_entity = np.array([result['conferences']['value'].split('entity/')[1] for result in results])\n",
    "conf_labels = np.array([result['conferencesLabel']['value'] for result in results])\n",
    "series2_entity = np.array([result['series']['value'].split('entity/')[1] for result in results])\n",
    "series2_labels = np.array([result['seriesLabel']['value'] for result in results])"
   ],
   "metadata": {
    "collapsed": false
   }
  },
  {
   "cell_type": "code",
   "execution_count": 91,
   "outputs": [
    {
     "data": {
      "text/plain": "     conf_entity                                        conf_labels  \\\n6669  Q116657073  19th International Conference on Science, Tech...   \n2166  Q105943021  INNS Conference on Big Data 2015, San Francisc...   \n3422  Q106243617  Functional and Logic Programming - 12th Intern...   \n1905  Q106242915  24th Asia-Pacific Software Engineering Confere...   \n1454  Q106245013  Tools and Algorithms for the Construction and ...   \n...          ...                                                ...   \n4861  Q106068288  Static Analysis, 15th International Symposium,...   \n1872  Q106242834  2016 IEEE International Conference on Pervasiv...   \n2669  Q106245847  Mobile Networks and Management - 5th Internati...   \n4304  Q106068038  Information and Software Technologies - 24th I...   \n2722  Q106243119  Spatial Information Theory, 8th International ...   \n\n     series_entity                                      series_labels  \n6669    Q116257252  International Conference on Science, Technolog...  \n2166    Q105700082  International Neural Network Society Winter Co...  \n3422    Q105693690  International Symposium on Functional and Logi...  \n1905    Q105693374       Asia-Pacific Software Engineering Conference  \n1454    Q105693137  International Conference on Tools and Algorith...  \n...            ...                                                ...  \n4861    Q105694643            International Static Analysis Symposium  \n1872    Q105693372  Annual IEEE International Conference and Works...  \n2669    Q105696226                Mobile Lightweight Wireless Systems  \n4304    Q105699857  International Conference on Information and So...  \n2722    Q105695474           Conference On Spatial Information Theory  \n\n[200 rows x 4 columns]",
      "text/html": "<div>\n<style scoped>\n    .dataframe tbody tr th:only-of-type {\n        vertical-align: middle;\n    }\n\n    .dataframe tbody tr th {\n        vertical-align: top;\n    }\n\n    .dataframe thead th {\n        text-align: right;\n    }\n</style>\n<table border=\"1\" class=\"dataframe\">\n  <thead>\n    <tr style=\"text-align: right;\">\n      <th></th>\n      <th>conf_entity</th>\n      <th>conf_labels</th>\n      <th>series_entity</th>\n      <th>series_labels</th>\n    </tr>\n  </thead>\n  <tbody>\n    <tr>\n      <th>6669</th>\n      <td>Q116657073</td>\n      <td>19th International Conference on Science, Tech...</td>\n      <td>Q116257252</td>\n      <td>International Conference on Science, Technolog...</td>\n    </tr>\n    <tr>\n      <th>2166</th>\n      <td>Q105943021</td>\n      <td>INNS Conference on Big Data 2015, San Francisc...</td>\n      <td>Q105700082</td>\n      <td>International Neural Network Society Winter Co...</td>\n    </tr>\n    <tr>\n      <th>3422</th>\n      <td>Q106243617</td>\n      <td>Functional and Logic Programming - 12th Intern...</td>\n      <td>Q105693690</td>\n      <td>International Symposium on Functional and Logi...</td>\n    </tr>\n    <tr>\n      <th>1905</th>\n      <td>Q106242915</td>\n      <td>24th Asia-Pacific Software Engineering Confere...</td>\n      <td>Q105693374</td>\n      <td>Asia-Pacific Software Engineering Conference</td>\n    </tr>\n    <tr>\n      <th>1454</th>\n      <td>Q106245013</td>\n      <td>Tools and Algorithms for the Construction and ...</td>\n      <td>Q105693137</td>\n      <td>International Conference on Tools and Algorith...</td>\n    </tr>\n    <tr>\n      <th>...</th>\n      <td>...</td>\n      <td>...</td>\n      <td>...</td>\n      <td>...</td>\n    </tr>\n    <tr>\n      <th>4861</th>\n      <td>Q106068288</td>\n      <td>Static Analysis, 15th International Symposium,...</td>\n      <td>Q105694643</td>\n      <td>International Static Analysis Symposium</td>\n    </tr>\n    <tr>\n      <th>1872</th>\n      <td>Q106242834</td>\n      <td>2016 IEEE International Conference on Pervasiv...</td>\n      <td>Q105693372</td>\n      <td>Annual IEEE International Conference and Works...</td>\n    </tr>\n    <tr>\n      <th>2669</th>\n      <td>Q106245847</td>\n      <td>Mobile Networks and Management - 5th Internati...</td>\n      <td>Q105696226</td>\n      <td>Mobile Lightweight Wireless Systems</td>\n    </tr>\n    <tr>\n      <th>4304</th>\n      <td>Q106068038</td>\n      <td>Information and Software Technologies - 24th I...</td>\n      <td>Q105699857</td>\n      <td>International Conference on Information and So...</td>\n    </tr>\n    <tr>\n      <th>2722</th>\n      <td>Q106243119</td>\n      <td>Spatial Information Theory, 8th International ...</td>\n      <td>Q105695474</td>\n      <td>Conference On Spatial Information Theory</td>\n    </tr>\n  </tbody>\n</table>\n<p>200 rows × 4 columns</p>\n</div>"
     },
     "execution_count": 91,
     "metadata": {},
     "output_type": "execute_result"
    }
   ],
   "source": [
    "# zip all arrays together to create a DataFrame\n",
    "\n",
    "together2 = zip(conf_entity, conf_labels, series2_entity, series2_labels)\n",
    "df2 = pd.DataFrame(together2, columns=['conf_entity', 'conf_labels', 'series_entity', 'series_labels'])\n",
    "df2.sample(200, random_state=42)"
   ],
   "metadata": {
    "collapsed": false
   }
  },
  {
   "cell_type": "markdown",
   "source": [
    "## Let's check here how many unique series labels and entities I have:"
   ],
   "metadata": {
    "collapsed": false
   }
  },
  {
   "cell_type": "code",
   "execution_count": 92,
   "outputs": [
    {
     "data": {
      "text/plain": "array(['International Conference on Quantum Communication, Measurement and Computing (QCMC)',\n       'International Symposium on String Processing and Information Retrieval',\n       'Extended Semantic Web Conference', ...,\n       'ACM conference on Web Science',\n       'International Conference on Computer Communication', 'Q115475014'],\n      dtype=object)"
     },
     "execution_count": 92,
     "metadata": {},
     "output_type": "execute_result"
    }
   ],
   "source": [
    "df2.series_labels.unique()"
   ],
   "metadata": {
    "collapsed": false
   }
  },
  {
   "cell_type": "markdown",
   "source": [
    "# Questions that I have:\n",
    "- Do I create one or many benchmarks?\n",
    "- What should the benchmark be based on?\n",
    "- Should I create a list where all conference series are mapped to an identifier (delete duplicates)"
   ],
   "metadata": {
    "collapsed": false
   }
  }
 ],
 "metadata": {
  "kernelspec": {
   "display_name": "Python 3",
   "language": "python",
   "name": "python3"
  },
  "language_info": {
   "codemirror_mode": {
    "name": "ipython",
    "version": 2
   },
   "file_extension": ".py",
   "mimetype": "text/x-python",
   "name": "python",
   "nbconvert_exporter": "python",
   "pygments_lexer": "ipython2",
   "version": "2.7.6"
  }
 },
 "nbformat": 4,
 "nbformat_minor": 0
}
