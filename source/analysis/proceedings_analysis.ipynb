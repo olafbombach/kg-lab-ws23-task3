{
 "cells": [
  {
   "cell_type": "code",
   "execution_count": 2,
   "metadata": {},
   "outputs": [],
   "source": [
    "import numpy as np\n",
    "import pandas as pd\n",
    "\n",
    "from source.HelperFunctions import find_root_directory"
   ]
  },
  {
   "cell_type": "code",
   "execution_count": 4,
   "metadata": {},
   "outputs": [
    {
     "data": {
      "text/plain": [
       "True"
      ]
     },
     "execution_count": 4,
     "metadata": {},
     "output_type": "execute_result"
    }
   ],
   "source": [
    "path = find_root_directory() / \"datasets\" / \"proceedings.com\" / \"all-mar-24.xlsx\"\n",
    "path.is_file()"
   ]
  },
  {
   "cell_type": "code",
   "execution_count": 6,
   "metadata": {},
   "outputs": [
    {
     "name": "stdout",
     "output_type": "stream",
     "text": [
      "<class 'pandas.core.frame.DataFrame'>\n",
      "RangeIndex: 61785 entries, 0 to 61784\n",
      "Data columns (total 17 columns):\n",
      " #   Column            Non-Null Count  Dtype  \n",
      "---  ------            --------------  -----  \n",
      " 0   Publisher         61785 non-null  object \n",
      " 1   Conference Title  61785 non-null  object \n",
      " 2   Book Title        61785 non-null  object \n",
      " 3   Series            20442 non-null  object \n",
      " 4   Description       61785 non-null  object \n",
      " 5   Mtg Year          61185 non-null  float64\n",
      " 6   Editor            18921 non-null  object \n",
      " 7   ISBN              61784 non-null  float64\n",
      " 8   Pages             61785 non-null  object \n",
      " 9   Format            61785 non-null  object \n",
      " 10  POD Publisher     61785 non-null  object \n",
      " 11  Publ Year         61785 non-null  int64  \n",
      " 12  Subject1          61785 non-null  object \n",
      " 13  Subject2          24553 non-null  object \n",
      " 14  Subject3          5213 non-null   object \n",
      " 15  Subject4          826 non-null    object \n",
      " 16  List Price        61785 non-null  float64\n",
      "dtypes: float64(3), int64(1), object(13)\n",
      "memory usage: 8.0+ MB\n"
     ]
    }
   ],
   "source": [
    "df = pd.read_excel(path, engine='openpyxl')\n",
    "df.info()"
   ]
  },
  {
   "cell_type": "code",
   "execution_count": 10,
   "metadata": {},
   "outputs": [
    {
     "data": {
      "text/plain": [
       "(0, 17)"
      ]
     },
     "execution_count": 10,
     "metadata": {},
     "output_type": "execute_result"
    }
   ],
   "source": [
    "df.loc[df['ISBN'].duplicated()].shape"
   ]
  },
  {
   "cell_type": "markdown",
   "metadata": {},
   "source": [
    "This is a nice result. Since we can use the ISBN number as unique identifier here!"
   ]
  }
 ],
 "metadata": {
  "kernelspec": {
   "display_name": "venv",
   "language": "python",
   "name": "python3"
  },
  "language_info": {
   "codemirror_mode": {
    "name": "ipython",
    "version": 3
   },
   "file_extension": ".py",
   "mimetype": "text/x-python",
   "name": "python",
   "nbconvert_exporter": "python",
   "pygments_lexer": "ipython3",
   "version": "3.9.13"
  }
 },
 "nbformat": 4,
 "nbformat_minor": 2
}
