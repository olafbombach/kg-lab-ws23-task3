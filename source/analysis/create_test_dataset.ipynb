{
 "cells": [
  {
   "cell_type": "code",
   "execution_count": 1,
   "metadata": {
    "collapsed": true
   },
   "outputs": [],
   "source": [
    "import pandas as pd"
   ]
  },
  {
   "cell_type": "markdown",
   "source": [
    "## Testset 1"
   ],
   "metadata": {
    "collapsed": false
   }
  },
  {
   "cell_type": "markdown",
   "source": [
    "This notebook creates a sampled testset to compute / estimate the precision and the recall of the methods.\n",
    "It is created as follows:\n",
    "1. filter for entries that have wikicfp_identifier <b>and</b> the DBLP_identifier, since these entries tend to have much information\n",
    "2. sample randomly from the filtered_dataset\n",
    "3. save the csv-file under datasets/wikidata/testset_v1.csv"
   ],
   "metadata": {
    "collapsed": false
   }
  },
  {
   "cell_type": "code",
   "execution_count": 2,
   "outputs": [],
   "source": [
    "path = \"../../datasets/wikidata/wikidata_conf_data.csv\"\n",
    "full_data = pd.read_csv(path, header=0, index_col=0)"
   ],
   "metadata": {
    "collapsed": false
   }
  },
  {
   "cell_type": "code",
   "execution_count": 3,
   "outputs": [],
   "source": [
    "filtered_data = full_data.loc[\n",
    "    (full_data['WikiCFP_identifier'].isna() == False) &\n",
    "    (full_data['DBLP_identifier'].isna() == False)]"
   ],
   "metadata": {
    "collapsed": false
   }
  },
  {
   "cell_type": "code",
   "execution_count": 4,
   "outputs": [],
   "source": [
    "sampled_data = filtered_data.sample(n=100, random_state=42)"
   ],
   "metadata": {
    "collapsed": false
   }
  },
  {
   "cell_type": "code",
   "execution_count": 5,
   "outputs": [
    {
     "name": "stdout",
     "output_type": "stream",
     "text": [
      "<class 'pandas.core.frame.DataFrame'>\n",
      "Index: 100 entries, 4507 to 6908\n",
      "Data columns (total 12 columns):\n",
      " #   Column              Non-Null Count  Dtype  \n",
      "---  ------              --------------  -----  \n",
      " 0   conf_label          100 non-null    object \n",
      " 1   title               88 non-null     object \n",
      " 2   country             96 non-null     object \n",
      " 3   location            97 non-null     object \n",
      " 4   main_subject        29 non-null     object \n",
      " 5   start_time          91 non-null     object \n",
      " 6   end_time            91 non-null     object \n",
      " 7   series_label        100 non-null    object \n",
      " 8   series_short_name   95 non-null     object \n",
      " 9   beginnings          40 non-null     float64\n",
      " 10  WikiCFP_identifier  100 non-null    float64\n",
      " 11  DBLP_identifier     100 non-null    object \n",
      "dtypes: float64(2), object(10)\n",
      "memory usage: 10.2+ KB\n"
     ]
    }
   ],
   "source": [
    "sampled_data.info()"
   ],
   "metadata": {
    "collapsed": false
   }
  },
  {
   "cell_type": "code",
   "execution_count": 6,
   "outputs": [],
   "source": [
    "path_for_sampled_data = \"../../datasets/wikidata/testset_v1_opt.csv\""
   ],
   "metadata": {
    "collapsed": false
   }
  },
  {
   "cell_type": "code",
   "execution_count": 7,
   "outputs": [],
   "source": [
    "sampled_data.to_csv(path_for_sampled_data, sep=';')"
   ],
   "metadata": {
    "collapsed": false
   }
  },
  {
   "cell_type": "markdown",
   "source": [
    "## Testset 2"
   ],
   "metadata": {
    "collapsed": false
   }
  },
  {
   "cell_type": "code",
   "execution_count": 2,
   "outputs": [],
   "source": [
    "import pandas as pd"
   ],
   "metadata": {
    "collapsed": false
   }
  },
  {
   "cell_type": "code",
   "execution_count": 26,
   "outputs": [],
   "source": [
    "path = \"../../datasets/proceedings.com/all-nov-23.xlsx\"\n",
    "full_data = pd.read_excel(path, engine='openpyxl')\n",
    "full_data = full_data.drop(columns=[\"Subject1\", \"Subject2\", \"Subject3\", \"Subject4\", \"List Price\", \"ISBN\"])"
   ],
   "metadata": {
    "collapsed": false
   }
  },
  {
   "cell_type": "code",
   "execution_count": 27,
   "outputs": [
    {
     "data": {
      "text/plain": "(14475, 11)"
     },
     "execution_count": 27,
     "metadata": {},
     "output_type": "execute_result"
    }
   ],
   "source": [
    "filtered_data = full_data.loc[full_data.isna().sum(axis=1) < 1,:]\n",
    "filtered_data.shape"
   ],
   "metadata": {
    "collapsed": false
   }
  },
  {
   "cell_type": "code",
   "execution_count": 28,
   "outputs": [],
   "source": [
    "sampled_data = filtered_data.sample(n=100, random_state=42)"
   ],
   "metadata": {
    "collapsed": false
   }
  },
  {
   "cell_type": "code",
   "execution_count": 29,
   "outputs": [],
   "source": [
    "sampled_data = sampled_data.drop(columns=[\"Publisher\", \"Editor\", \"Pages\", \"Format\"])"
   ],
   "metadata": {
    "collapsed": false
   }
  },
  {
   "cell_type": "code",
   "execution_count": 30,
   "outputs": [],
   "source": [
    "sampled_data.to_csv(\"../../datasets/proceedings.com/testset_v2.csv\", sep=\";\")"
   ],
   "metadata": {
    "collapsed": false
   }
  }
 ],
 "metadata": {
  "kernelspec": {
   "display_name": "Python 3",
   "language": "python",
   "name": "python3"
  },
  "language_info": {
   "codemirror_mode": {
    "name": "ipython",
    "version": 2
   },
   "file_extension": ".py",
   "mimetype": "text/x-python",
   "name": "python",
   "nbconvert_exporter": "python",
   "pygments_lexer": "ipython2",
   "version": "2.7.6"
  }
 },
 "nbformat": 4,
 "nbformat_minor": 0
}
