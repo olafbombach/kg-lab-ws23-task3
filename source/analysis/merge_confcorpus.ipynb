{
 "cells": [
  {
   "cell_type": "code",
   "execution_count": 2,
   "metadata": {
    "collapsed": true
   },
   "outputs": [],
   "source": [
    "import pandas as pd\n",
    "import numpy as np"
   ]
  },
  {
   "cell_type": "markdown",
   "source": [
    "# Define path and read in data:"
   ],
   "metadata": {
    "collapsed": false
   }
  },
  {
   "cell_type": "code",
   "execution_count": 3,
   "outputs": [],
   "source": [
    "path = '..\\\\..\\\\datasets\\\\'\n",
    "confcorpus_file = '.conferencecorpus\\\\conf_corpus_data.csv'\n",
    "wikidata_file = 'wikidata\\\\wikidata_conf_data.csv'"
   ],
   "metadata": {
    "collapsed": false
   }
  },
  {
   "cell_type": "code",
   "execution_count": 5,
   "outputs": [],
   "source": [
    "confcorpus_df = pd.read_csv(path+confcorpus_file, index_col=0)\n",
    "wikidata_df = pd.read_csv(path+wikidata_file, index_col=0)"
   ],
   "metadata": {
    "collapsed": false
   }
  },
  {
   "cell_type": "markdown",
   "source": [
    "# check shape of dataframes"
   ],
   "metadata": {
    "collapsed": false
   }
  },
  {
   "cell_type": "code",
   "execution_count": 15,
   "outputs": [
    {
     "data": {
      "text/plain": "  WD_conf_labels                                   WD_series_labels  \\\n0      QCMC 2018  International Conference on Quantum Communicat...   \n1      QCMC 2016  International Conference on Quantum Communicat...   \n2      QCMC 2014  International Conference on Quantum Communicat...   \n3      QCMC 2012  International Conference on Quantum Communicat...   \n4      QCMC 2010  International Conference on Quantum Communicat...   \n\n  WD_short_name          WD_inception  WD_WikiCFP_identifier  \\\n0          QCMC  1990-01-01T00:00:00Z                    NaN   \n1          QCMC  1990-01-01T00:00:00Z                    NaN   \n2          QCMC  1990-01-01T00:00:00Z                    NaN   \n3          QCMC  1990-01-01T00:00:00Z                    NaN   \n4          QCMC  1990-01-01T00:00:00Z                    NaN   \n\n  WD_DBLP_identifier  \n0                NaN  \n1                NaN  \n2                NaN  \n3                NaN  \n4                NaN  ",
      "text/html": "<div>\n<style scoped>\n    .dataframe tbody tr th:only-of-type {\n        vertical-align: middle;\n    }\n\n    .dataframe tbody tr th {\n        vertical-align: top;\n    }\n\n    .dataframe thead th {\n        text-align: right;\n    }\n</style>\n<table border=\"1\" class=\"dataframe\">\n  <thead>\n    <tr style=\"text-align: right;\">\n      <th></th>\n      <th>WD_conf_labels</th>\n      <th>WD_series_labels</th>\n      <th>WD_short_name</th>\n      <th>WD_inception</th>\n      <th>WD_WikiCFP_identifier</th>\n      <th>WD_DBLP_identifier</th>\n    </tr>\n  </thead>\n  <tbody>\n    <tr>\n      <th>0</th>\n      <td>QCMC 2018</td>\n      <td>International Conference on Quantum Communicat...</td>\n      <td>QCMC</td>\n      <td>1990-01-01T00:00:00Z</td>\n      <td>NaN</td>\n      <td>NaN</td>\n    </tr>\n    <tr>\n      <th>1</th>\n      <td>QCMC 2016</td>\n      <td>International Conference on Quantum Communicat...</td>\n      <td>QCMC</td>\n      <td>1990-01-01T00:00:00Z</td>\n      <td>NaN</td>\n      <td>NaN</td>\n    </tr>\n    <tr>\n      <th>2</th>\n      <td>QCMC 2014</td>\n      <td>International Conference on Quantum Communicat...</td>\n      <td>QCMC</td>\n      <td>1990-01-01T00:00:00Z</td>\n      <td>NaN</td>\n      <td>NaN</td>\n    </tr>\n    <tr>\n      <th>3</th>\n      <td>QCMC 2012</td>\n      <td>International Conference on Quantum Communicat...</td>\n      <td>QCMC</td>\n      <td>1990-01-01T00:00:00Z</td>\n      <td>NaN</td>\n      <td>NaN</td>\n    </tr>\n    <tr>\n      <th>4</th>\n      <td>QCMC 2010</td>\n      <td>International Conference on Quantum Communicat...</td>\n      <td>QCMC</td>\n      <td>1990-01-01T00:00:00Z</td>\n      <td>NaN</td>\n      <td>NaN</td>\n    </tr>\n  </tbody>\n</table>\n</div>"
     },
     "execution_count": 15,
     "metadata": {},
     "output_type": "execute_result"
    }
   ],
   "source": [
    "wikidata_df.columns = ['WD_conf_labels', 'WD_series_labels', 'WD_short_name', 'WD_inception', 'WD_WikiCFP_identifier', 'WD_DBLP_identifier']\n",
    "wikidata_df.head()"
   ],
   "metadata": {
    "collapsed": false
   }
  },
  {
   "cell_type": "code",
   "execution_count": 17,
   "outputs": [
    {
     "data": {
      "text/plain": "                                             CC_name CC_theme CC_acronym  \\\n0                  the 2011 International Conference      NaN  ICCCS '11   \n1       the seventeenth design automation conference      NaN    DAC '80   \n2  2015 IEEE 5th Symposium on Large Data Analysis...      NaN        NaN   \n3  Proceedings of Fourth Annual International Wor...      NaN        NaN   \n4  Proceedings of 1996 Canadian Conference on Ele...      NaN        NaN   \n\n                          CC_start                           CC_end  \\\n0   dict_values([[[2011, 2, 12]]])   dict_values([[[2011, 2, 14]]])   \n1   dict_values([[[1980, 6, 23]]])   dict_values([[[1980, 6, 25]]])   \n2  dict_values([[[2015, 10, 25]]])  dict_values([[[2015, 10, 26]]])   \n3   dict_values([[[2002, 7, 23]]])   dict_values([[[2002, 7, 23]]])   \n4   dict_values([[[1996, 5, 26]]])   dict_values([[[1996, 5, 29]]])   \n\n                                          CC_sponsor  \\\n0                                                NaN   \n1  ['IEEE-CS\\\\DATC, IEEE Computer Society', 'SIGD...   \n2                                                NaN   \n3                                                NaN   \n4                                                NaN   \n\n                             CC_location CC_number  \\\n0                Rourkela, Odisha, India      2011   \n1  Minneapolis, Minnesota, United States       NaN   \n2                            Chicago, IL       NaN   \n3                          Edinburgh, UK       NaN   \n4               Calgary, Alberta, Canada       NaN   \n\n                                            CC_title                  CC_DOI  \n0  Proceedings of the 2011 International Conferen...         10.1145/1947940  \n1  Proceedings of the seventeenth design automati...          10.1145/800139  \n2  2015 IEEE 5th Symposium on Large Data Analysis...  10.1109/ldav36595.2015  \n3  Proceedings of Fourth Annual International Wor...        10.1109/ams.2002  \n4  Proceedings of 1996 Canadian Conference on Ele...      10.1109/ccece.1996  ",
      "text/html": "<div>\n<style scoped>\n    .dataframe tbody tr th:only-of-type {\n        vertical-align: middle;\n    }\n\n    .dataframe tbody tr th {\n        vertical-align: top;\n    }\n\n    .dataframe thead th {\n        text-align: right;\n    }\n</style>\n<table border=\"1\" class=\"dataframe\">\n  <thead>\n    <tr style=\"text-align: right;\">\n      <th></th>\n      <th>CC_name</th>\n      <th>CC_theme</th>\n      <th>CC_acronym</th>\n      <th>CC_start</th>\n      <th>CC_end</th>\n      <th>CC_sponsor</th>\n      <th>CC_location</th>\n      <th>CC_number</th>\n      <th>CC_title</th>\n      <th>CC_DOI</th>\n    </tr>\n  </thead>\n  <tbody>\n    <tr>\n      <th>0</th>\n      <td>the 2011 International Conference</td>\n      <td>NaN</td>\n      <td>ICCCS '11</td>\n      <td>dict_values([[[2011, 2, 12]]])</td>\n      <td>dict_values([[[2011, 2, 14]]])</td>\n      <td>NaN</td>\n      <td>Rourkela, Odisha, India</td>\n      <td>2011</td>\n      <td>Proceedings of the 2011 International Conferen...</td>\n      <td>10.1145/1947940</td>\n    </tr>\n    <tr>\n      <th>1</th>\n      <td>the seventeenth design automation conference</td>\n      <td>NaN</td>\n      <td>DAC '80</td>\n      <td>dict_values([[[1980, 6, 23]]])</td>\n      <td>dict_values([[[1980, 6, 25]]])</td>\n      <td>['IEEE-CS\\\\DATC, IEEE Computer Society', 'SIGD...</td>\n      <td>Minneapolis, Minnesota, United States</td>\n      <td>NaN</td>\n      <td>Proceedings of the seventeenth design automati...</td>\n      <td>10.1145/800139</td>\n    </tr>\n    <tr>\n      <th>2</th>\n      <td>2015 IEEE 5th Symposium on Large Data Analysis...</td>\n      <td>NaN</td>\n      <td>NaN</td>\n      <td>dict_values([[[2015, 10, 25]]])</td>\n      <td>dict_values([[[2015, 10, 26]]])</td>\n      <td>NaN</td>\n      <td>Chicago, IL</td>\n      <td>NaN</td>\n      <td>2015 IEEE 5th Symposium on Large Data Analysis...</td>\n      <td>10.1109/ldav36595.2015</td>\n    </tr>\n    <tr>\n      <th>3</th>\n      <td>Proceedings of Fourth Annual International Wor...</td>\n      <td>NaN</td>\n      <td>NaN</td>\n      <td>dict_values([[[2002, 7, 23]]])</td>\n      <td>dict_values([[[2002, 7, 23]]])</td>\n      <td>NaN</td>\n      <td>Edinburgh, UK</td>\n      <td>NaN</td>\n      <td>Proceedings of Fourth Annual International Wor...</td>\n      <td>10.1109/ams.2002</td>\n    </tr>\n    <tr>\n      <th>4</th>\n      <td>Proceedings of 1996 Canadian Conference on Ele...</td>\n      <td>NaN</td>\n      <td>NaN</td>\n      <td>dict_values([[[1996, 5, 26]]])</td>\n      <td>dict_values([[[1996, 5, 29]]])</td>\n      <td>NaN</td>\n      <td>Calgary, Alberta, Canada</td>\n      <td>NaN</td>\n      <td>Proceedings of 1996 Canadian Conference on Ele...</td>\n      <td>10.1109/ccece.1996</td>\n    </tr>\n  </tbody>\n</table>\n</div>"
     },
     "execution_count": 17,
     "metadata": {},
     "output_type": "execute_result"
    }
   ],
   "source": [
    "confcorpus_df.columns = ['CC_name', 'CC_theme', 'CC_acronym', 'CC_start', 'CC_end', 'CC_sponsor', 'CC_location', 'CC_number', 'CC_title', 'CC_DOI']\n",
    "confcorpus_df.head()"
   ],
   "metadata": {
    "collapsed": false
   }
  },
  {
   "cell_type": "markdown",
   "source": [
    "# Naiv approach by simply merging the dataframes based on column values for names"
   ],
   "metadata": {
    "collapsed": false
   }
  },
  {
   "cell_type": "code",
   "execution_count": 18,
   "outputs": [
    {
     "data": {
      "text/plain": "                                       WD_conf_labels  \\\n0   2016 10th International Conference on Intellig...   \n1   2006 IEEE International Conference on Services...   \n2     2018 IEEE Vehicular Networking Conference (VNC)   \n3     2015 IEEE Vehicular Networking Conference (VNC)   \n4     2016 IEEE Vehicular Networking Conference (VNC)   \n5     2020 IEEE Vehicular Networking Conference (VNC)   \n6     2021 IEEE Vehicular Networking Conference (VNC)   \n7   15th International Conference on Web Informati...   \n8   18th International Conference on Web Informati...   \n9   21st International Conference on Enterprise In...   \n10  23rd International Conference on Enterprise In...   \n11  24th International Conference on Enterprise In...   \n12  11th International Conference on Software Engi...   \n13  8th International Conference on Software Engin...   \n14  4th International Conference on Software Engin...   \n15   2019 IEEE Holm Conference on Electrical Contacts   \n16    International Conference on High Energy Physics   \n\n                                     WD_series_labels WD_short_name  \\\n0   International Conference on Intelligent System...          ISCO   \n1   IEEE International Conference on Services Comp...           SCC   \n2                IEEE Vehicular Networking Conference           VNC   \n3                IEEE Vehicular Networking Conference           VNC   \n4                IEEE Vehicular Networking Conference           VNC   \n5                IEEE Vehicular Networking Conference           VNC   \n6                IEEE Vehicular Networking Conference           VNC   \n7            Web Information Systems and Technologies        WebIST   \n8            Web Information Systems and Technologies        WebIST   \n9   International Conference on Enterprise Informa...         ICEIS   \n10  International Conference on Enterprise Informa...         ICEIS   \n11  International Conference on Enterprise Informa...         ICEIS   \n12   International Conference on Software Engineering          ICSE   \n13   International Conference on Software Engineering          ICSE   \n14   International Conference on Software Engineering          ICSE   \n15        IEEE Holm Conference on Electrical Contacts          HOLM   \n16                                                NaN           NaN   \n\n            WD_inception  WD_WikiCFP_identifier WD_DBLP_identifier  \\\n0                    NaN                    NaN                NaN   \n1   2004-01-01T00:00:00Z                 2571.0       conf/IEEEscc   \n2                    NaN                    NaN           conf/vnc   \n3                    NaN                    NaN           conf/vnc   \n4                    NaN                    NaN           conf/vnc   \n5                    NaN                    NaN           conf/vnc   \n6                    NaN                    NaN           conf/vnc   \n7   2005-01-01T00:00:00Z                 3035.0        conf/webist   \n8   2005-01-01T00:00:00Z                 3035.0        conf/webist   \n9   1999-01-01T00:00:00Z                 1356.0         conf/iceis   \n10  1999-01-01T00:00:00Z                 1356.0         conf/iceis   \n11  1999-01-01T00:00:00Z                 1356.0         conf/iceis   \n12  1975-01-01T00:00:00Z                 1462.0          conf/icse   \n13  1975-01-01T00:00:00Z                 1462.0          conf/icse   \n14  1975-01-01T00:00:00Z                 1462.0          conf/icse   \n15                   NaN                    NaN                NaN   \n16                   NaN                    NaN                NaN   \n\n                                              CC_name CC_theme CC_acronym  \\\n0   2016 10th International Conference on Intellig...      NaN        NaN   \n1   2006 IEEE International Conference on Services...      NaN        NaN   \n2     2018 IEEE Vehicular Networking Conference (VNC)      NaN        NaN   \n3     2015 IEEE Vehicular Networking Conference (VNC)      NaN        NaN   \n4     2016 IEEE Vehicular Networking Conference (VNC)      NaN        NaN   \n5     2020 IEEE Vehicular Networking Conference (VNC)      NaN        NaN   \n6     2021 IEEE Vehicular Networking Conference (VNC)      NaN        NaN   \n7   15th International Conference on Web Informati...      NaN        NaN   \n8   18th International Conference on Web Informati...      NaN        NaN   \n9   21st International Conference on Enterprise In...      NaN        NaN   \n10  23rd International Conference on Enterprise In...      NaN        NaN   \n11  24th International Conference on Enterprise In...      NaN        NaN   \n12  11th International Conference on Software Engi...      NaN        NaN   \n13  8th International Conference on Software Engin...      NaN       SOEN   \n14  4th International Conference on Software Engin...      NaN  SOFE-2018   \n15   2019 IEEE Holm Conference on Electrical Contacts      NaN        NaN   \n16    International Conference on High Energy Physics      NaN        NaN   \n\n                           CC_start                           CC_end  \\\n0     dict_values([[[2016, 1, 7]]])    dict_values([[[2016, 1, 8]]])   \n1    dict_values([[[2006, 9, 18]]])   dict_values([[[2006, 9, 22]]])   \n2    dict_values([[[2018, 12, 5]]])   dict_values([[[2018, 12, 7]]])   \n3   dict_values([[[2015, 12, 16]]])  dict_values([[[2015, 12, 18]]])   \n4    dict_values([[[2016, 12, 8]]])  dict_values([[[2016, 12, 10]]])   \n5   dict_values([[[2020, 12, 16]]])  dict_values([[[2020, 12, 18]]])   \n6   dict_values([[[2021, 11, 10]]])  dict_values([[[2021, 11, 12]]])   \n7    dict_values([[[2019, 9, 18]]])   dict_values([[[2019, 9, 20]]])   \n8   dict_values([[[2022, 10, 25]]])  dict_values([[[2022, 10, 27]]])   \n9     dict_values([[[2019, 5, 3]]])    dict_values([[[2019, 5, 5]]])   \n10   dict_values([[[2021, 4, 26]]])   dict_values([[[2021, 4, 28]]])   \n11   dict_values([[[2022, 4, 25]]])   dict_values([[[2022, 4, 27]]])   \n12   dict_values([[[1989, 5, 15]]])   dict_values([[[1989, 5, 18]]])   \n13                              NaN                              NaN   \n14                              NaN                              NaN   \n15   dict_values([[[2019, 9, 14]]])   dict_values([[[2019, 9, 18]]])   \n16                              NaN                              NaN   \n\n   CC_sponsor                                 CC_location CC_number  \\\n0         NaN                                  Coimbatore       NaN   \n1         NaN                            Chicago, IL, USA       NaN   \n2         NaN                              Taipei, Taiwan       NaN   \n3         NaN                                Kyoto, Japan       NaN   \n4         NaN                           Columbus, OH, USA       NaN   \n5         NaN                           New York, NY, USA       NaN   \n6         NaN                                Ulm, Germany       NaN   \n7         NaN                             Vienna, Austria       NaN   \n8         NaN                             Valletta, Malta       NaN   \n9         NaN                    Heraklion, Crete, Greece       NaN   \n10        NaN  Online Streaming, --- Select a Country ---       NaN   \n11        NaN  Online Streaming, --- Select a Country ---       NaN   \n12        NaN                         Pittsburgh, PA, USA       NaN   \n13        NaN                                         NaN       NaN   \n14        NaN                                         NaN       NaN   \n15        NaN                          Milwaukee, WI, USA       NaN   \n16        NaN                            Oklahoma, Norman       NaN   \n\n                                             CC_title  \\\n0   2016 10th International Conference on Intellig...   \n1   2006 IEEE International Conference on Services...   \n2     2018 IEEE Vehicular Networking Conference (VNC)   \n3     2015 IEEE Vehicular Networking Conference (VNC)   \n4     2016 IEEE Vehicular Networking Conference (VNC)   \n5     2020 IEEE Vehicular Networking Conference (VNC)   \n6     2021 IEEE Vehicular Networking Conference (VNC)   \n7   Proceedings of the 15th International Conferen...   \n8   Proceedings of the 18th International Conferen...   \n9   Proceedings of the 21st International Conferen...   \n10  Proceedings of the 23rd International Conferen...   \n11  Proceedings of the 24th International Conferen...   \n12  11th International Conference on Software Engi...   \n13                      Software Engineering Advances   \n14  Computer Science &amp; Information Technology ...   \n15   2019 IEEE Holm Conference on Electrical Contacts   \n16                       Beyond the Standard Model II   \n\n                      CC_DOI  \n0     10.1109/isco37174.2016  \n1      10.1109/scc11424.2006  \n2      10.1109/vnc45821.2018  \n3      10.1109/vnc36175.2015  \n4      10.1109/vnc39810.2016  \n5      10.1109/vnc51378.2020  \n6      10.1109/vnc52810.2021  \n7   10.5220/0000126600002366  \n8   10.5220/0000166100003318  \n9   10.5220/0000098600002175  \n10  10.5220/0000138900002928  \n11  10.5220/0000149900003179  \n12         10.1109/icse.1989  \n13    10.5121/csit.2023.1312  \n14   10.5121/csit.2018.81300  \n15    10.1109/holm46120.2019  \n16              10.1142/1336  ",
      "text/html": "<div>\n<style scoped>\n    .dataframe tbody tr th:only-of-type {\n        vertical-align: middle;\n    }\n\n    .dataframe tbody tr th {\n        vertical-align: top;\n    }\n\n    .dataframe thead th {\n        text-align: right;\n    }\n</style>\n<table border=\"1\" class=\"dataframe\">\n  <thead>\n    <tr style=\"text-align: right;\">\n      <th></th>\n      <th>WD_conf_labels</th>\n      <th>WD_series_labels</th>\n      <th>WD_short_name</th>\n      <th>WD_inception</th>\n      <th>WD_WikiCFP_identifier</th>\n      <th>WD_DBLP_identifier</th>\n      <th>CC_name</th>\n      <th>CC_theme</th>\n      <th>CC_acronym</th>\n      <th>CC_start</th>\n      <th>CC_end</th>\n      <th>CC_sponsor</th>\n      <th>CC_location</th>\n      <th>CC_number</th>\n      <th>CC_title</th>\n      <th>CC_DOI</th>\n    </tr>\n  </thead>\n  <tbody>\n    <tr>\n      <th>0</th>\n      <td>2016 10th International Conference on Intellig...</td>\n      <td>International Conference on Intelligent System...</td>\n      <td>ISCO</td>\n      <td>NaN</td>\n      <td>NaN</td>\n      <td>NaN</td>\n      <td>2016 10th International Conference on Intellig...</td>\n      <td>NaN</td>\n      <td>NaN</td>\n      <td>dict_values([[[2016, 1, 7]]])</td>\n      <td>dict_values([[[2016, 1, 8]]])</td>\n      <td>NaN</td>\n      <td>Coimbatore</td>\n      <td>NaN</td>\n      <td>2016 10th International Conference on Intellig...</td>\n      <td>10.1109/isco37174.2016</td>\n    </tr>\n    <tr>\n      <th>1</th>\n      <td>2006 IEEE International Conference on Services...</td>\n      <td>IEEE International Conference on Services Comp...</td>\n      <td>SCC</td>\n      <td>2004-01-01T00:00:00Z</td>\n      <td>2571.0</td>\n      <td>conf/IEEEscc</td>\n      <td>2006 IEEE International Conference on Services...</td>\n      <td>NaN</td>\n      <td>NaN</td>\n      <td>dict_values([[[2006, 9, 18]]])</td>\n      <td>dict_values([[[2006, 9, 22]]])</td>\n      <td>NaN</td>\n      <td>Chicago, IL, USA</td>\n      <td>NaN</td>\n      <td>2006 IEEE International Conference on Services...</td>\n      <td>10.1109/scc11424.2006</td>\n    </tr>\n    <tr>\n      <th>2</th>\n      <td>2018 IEEE Vehicular Networking Conference (VNC)</td>\n      <td>IEEE Vehicular Networking Conference</td>\n      <td>VNC</td>\n      <td>NaN</td>\n      <td>NaN</td>\n      <td>conf/vnc</td>\n      <td>2018 IEEE Vehicular Networking Conference (VNC)</td>\n      <td>NaN</td>\n      <td>NaN</td>\n      <td>dict_values([[[2018, 12, 5]]])</td>\n      <td>dict_values([[[2018, 12, 7]]])</td>\n      <td>NaN</td>\n      <td>Taipei, Taiwan</td>\n      <td>NaN</td>\n      <td>2018 IEEE Vehicular Networking Conference (VNC)</td>\n      <td>10.1109/vnc45821.2018</td>\n    </tr>\n    <tr>\n      <th>3</th>\n      <td>2015 IEEE Vehicular Networking Conference (VNC)</td>\n      <td>IEEE Vehicular Networking Conference</td>\n      <td>VNC</td>\n      <td>NaN</td>\n      <td>NaN</td>\n      <td>conf/vnc</td>\n      <td>2015 IEEE Vehicular Networking Conference (VNC)</td>\n      <td>NaN</td>\n      <td>NaN</td>\n      <td>dict_values([[[2015, 12, 16]]])</td>\n      <td>dict_values([[[2015, 12, 18]]])</td>\n      <td>NaN</td>\n      <td>Kyoto, Japan</td>\n      <td>NaN</td>\n      <td>2015 IEEE Vehicular Networking Conference (VNC)</td>\n      <td>10.1109/vnc36175.2015</td>\n    </tr>\n    <tr>\n      <th>4</th>\n      <td>2016 IEEE Vehicular Networking Conference (VNC)</td>\n      <td>IEEE Vehicular Networking Conference</td>\n      <td>VNC</td>\n      <td>NaN</td>\n      <td>NaN</td>\n      <td>conf/vnc</td>\n      <td>2016 IEEE Vehicular Networking Conference (VNC)</td>\n      <td>NaN</td>\n      <td>NaN</td>\n      <td>dict_values([[[2016, 12, 8]]])</td>\n      <td>dict_values([[[2016, 12, 10]]])</td>\n      <td>NaN</td>\n      <td>Columbus, OH, USA</td>\n      <td>NaN</td>\n      <td>2016 IEEE Vehicular Networking Conference (VNC)</td>\n      <td>10.1109/vnc39810.2016</td>\n    </tr>\n    <tr>\n      <th>5</th>\n      <td>2020 IEEE Vehicular Networking Conference (VNC)</td>\n      <td>IEEE Vehicular Networking Conference</td>\n      <td>VNC</td>\n      <td>NaN</td>\n      <td>NaN</td>\n      <td>conf/vnc</td>\n      <td>2020 IEEE Vehicular Networking Conference (VNC)</td>\n      <td>NaN</td>\n      <td>NaN</td>\n      <td>dict_values([[[2020, 12, 16]]])</td>\n      <td>dict_values([[[2020, 12, 18]]])</td>\n      <td>NaN</td>\n      <td>New York, NY, USA</td>\n      <td>NaN</td>\n      <td>2020 IEEE Vehicular Networking Conference (VNC)</td>\n      <td>10.1109/vnc51378.2020</td>\n    </tr>\n    <tr>\n      <th>6</th>\n      <td>2021 IEEE Vehicular Networking Conference (VNC)</td>\n      <td>IEEE Vehicular Networking Conference</td>\n      <td>VNC</td>\n      <td>NaN</td>\n      <td>NaN</td>\n      <td>conf/vnc</td>\n      <td>2021 IEEE Vehicular Networking Conference (VNC)</td>\n      <td>NaN</td>\n      <td>NaN</td>\n      <td>dict_values([[[2021, 11, 10]]])</td>\n      <td>dict_values([[[2021, 11, 12]]])</td>\n      <td>NaN</td>\n      <td>Ulm, Germany</td>\n      <td>NaN</td>\n      <td>2021 IEEE Vehicular Networking Conference (VNC)</td>\n      <td>10.1109/vnc52810.2021</td>\n    </tr>\n    <tr>\n      <th>7</th>\n      <td>15th International Conference on Web Informati...</td>\n      <td>Web Information Systems and Technologies</td>\n      <td>WebIST</td>\n      <td>2005-01-01T00:00:00Z</td>\n      <td>3035.0</td>\n      <td>conf/webist</td>\n      <td>15th International Conference on Web Informati...</td>\n      <td>NaN</td>\n      <td>NaN</td>\n      <td>dict_values([[[2019, 9, 18]]])</td>\n      <td>dict_values([[[2019, 9, 20]]])</td>\n      <td>NaN</td>\n      <td>Vienna, Austria</td>\n      <td>NaN</td>\n      <td>Proceedings of the 15th International Conferen...</td>\n      <td>10.5220/0000126600002366</td>\n    </tr>\n    <tr>\n      <th>8</th>\n      <td>18th International Conference on Web Informati...</td>\n      <td>Web Information Systems and Technologies</td>\n      <td>WebIST</td>\n      <td>2005-01-01T00:00:00Z</td>\n      <td>3035.0</td>\n      <td>conf/webist</td>\n      <td>18th International Conference on Web Informati...</td>\n      <td>NaN</td>\n      <td>NaN</td>\n      <td>dict_values([[[2022, 10, 25]]])</td>\n      <td>dict_values([[[2022, 10, 27]]])</td>\n      <td>NaN</td>\n      <td>Valletta, Malta</td>\n      <td>NaN</td>\n      <td>Proceedings of the 18th International Conferen...</td>\n      <td>10.5220/0000166100003318</td>\n    </tr>\n    <tr>\n      <th>9</th>\n      <td>21st International Conference on Enterprise In...</td>\n      <td>International Conference on Enterprise Informa...</td>\n      <td>ICEIS</td>\n      <td>1999-01-01T00:00:00Z</td>\n      <td>1356.0</td>\n      <td>conf/iceis</td>\n      <td>21st International Conference on Enterprise In...</td>\n      <td>NaN</td>\n      <td>NaN</td>\n      <td>dict_values([[[2019, 5, 3]]])</td>\n      <td>dict_values([[[2019, 5, 5]]])</td>\n      <td>NaN</td>\n      <td>Heraklion, Crete, Greece</td>\n      <td>NaN</td>\n      <td>Proceedings of the 21st International Conferen...</td>\n      <td>10.5220/0000098600002175</td>\n    </tr>\n    <tr>\n      <th>10</th>\n      <td>23rd International Conference on Enterprise In...</td>\n      <td>International Conference on Enterprise Informa...</td>\n      <td>ICEIS</td>\n      <td>1999-01-01T00:00:00Z</td>\n      <td>1356.0</td>\n      <td>conf/iceis</td>\n      <td>23rd International Conference on Enterprise In...</td>\n      <td>NaN</td>\n      <td>NaN</td>\n      <td>dict_values([[[2021, 4, 26]]])</td>\n      <td>dict_values([[[2021, 4, 28]]])</td>\n      <td>NaN</td>\n      <td>Online Streaming, --- Select a Country ---</td>\n      <td>NaN</td>\n      <td>Proceedings of the 23rd International Conferen...</td>\n      <td>10.5220/0000138900002928</td>\n    </tr>\n    <tr>\n      <th>11</th>\n      <td>24th International Conference on Enterprise In...</td>\n      <td>International Conference on Enterprise Informa...</td>\n      <td>ICEIS</td>\n      <td>1999-01-01T00:00:00Z</td>\n      <td>1356.0</td>\n      <td>conf/iceis</td>\n      <td>24th International Conference on Enterprise In...</td>\n      <td>NaN</td>\n      <td>NaN</td>\n      <td>dict_values([[[2022, 4, 25]]])</td>\n      <td>dict_values([[[2022, 4, 27]]])</td>\n      <td>NaN</td>\n      <td>Online Streaming, --- Select a Country ---</td>\n      <td>NaN</td>\n      <td>Proceedings of the 24th International Conferen...</td>\n      <td>10.5220/0000149900003179</td>\n    </tr>\n    <tr>\n      <th>12</th>\n      <td>11th International Conference on Software Engi...</td>\n      <td>International Conference on Software Engineering</td>\n      <td>ICSE</td>\n      <td>1975-01-01T00:00:00Z</td>\n      <td>1462.0</td>\n      <td>conf/icse</td>\n      <td>11th International Conference on Software Engi...</td>\n      <td>NaN</td>\n      <td>NaN</td>\n      <td>dict_values([[[1989, 5, 15]]])</td>\n      <td>dict_values([[[1989, 5, 18]]])</td>\n      <td>NaN</td>\n      <td>Pittsburgh, PA, USA</td>\n      <td>NaN</td>\n      <td>11th International Conference on Software Engi...</td>\n      <td>10.1109/icse.1989</td>\n    </tr>\n    <tr>\n      <th>13</th>\n      <td>8th International Conference on Software Engin...</td>\n      <td>International Conference on Software Engineering</td>\n      <td>ICSE</td>\n      <td>1975-01-01T00:00:00Z</td>\n      <td>1462.0</td>\n      <td>conf/icse</td>\n      <td>8th International Conference on Software Engin...</td>\n      <td>NaN</td>\n      <td>SOEN</td>\n      <td>NaN</td>\n      <td>NaN</td>\n      <td>NaN</td>\n      <td>NaN</td>\n      <td>NaN</td>\n      <td>Software Engineering Advances</td>\n      <td>10.5121/csit.2023.1312</td>\n    </tr>\n    <tr>\n      <th>14</th>\n      <td>4th International Conference on Software Engin...</td>\n      <td>International Conference on Software Engineering</td>\n      <td>ICSE</td>\n      <td>1975-01-01T00:00:00Z</td>\n      <td>1462.0</td>\n      <td>conf/icse</td>\n      <td>4th International Conference on Software Engin...</td>\n      <td>NaN</td>\n      <td>SOFE-2018</td>\n      <td>NaN</td>\n      <td>NaN</td>\n      <td>NaN</td>\n      <td>NaN</td>\n      <td>NaN</td>\n      <td>Computer Science &amp;amp; Information Technology ...</td>\n      <td>10.5121/csit.2018.81300</td>\n    </tr>\n    <tr>\n      <th>15</th>\n      <td>2019 IEEE Holm Conference on Electrical Contacts</td>\n      <td>IEEE Holm Conference on Electrical Contacts</td>\n      <td>HOLM</td>\n      <td>NaN</td>\n      <td>NaN</td>\n      <td>NaN</td>\n      <td>2019 IEEE Holm Conference on Electrical Contacts</td>\n      <td>NaN</td>\n      <td>NaN</td>\n      <td>dict_values([[[2019, 9, 14]]])</td>\n      <td>dict_values([[[2019, 9, 18]]])</td>\n      <td>NaN</td>\n      <td>Milwaukee, WI, USA</td>\n      <td>NaN</td>\n      <td>2019 IEEE Holm Conference on Electrical Contacts</td>\n      <td>10.1109/holm46120.2019</td>\n    </tr>\n    <tr>\n      <th>16</th>\n      <td>International Conference on High Energy Physics</td>\n      <td>NaN</td>\n      <td>NaN</td>\n      <td>NaN</td>\n      <td>NaN</td>\n      <td>NaN</td>\n      <td>International Conference on High Energy Physics</td>\n      <td>NaN</td>\n      <td>NaN</td>\n      <td>NaN</td>\n      <td>NaN</td>\n      <td>NaN</td>\n      <td>Oklahoma, Norman</td>\n      <td>NaN</td>\n      <td>Beyond the Standard Model II</td>\n      <td>10.1142/1336</td>\n    </tr>\n  </tbody>\n</table>\n</div>"
     },
     "execution_count": 18,
     "metadata": {},
     "output_type": "execute_result"
    }
   ],
   "source": [
    "df_merged = wikidata_df.merge(confcorpus_df, how='inner', left_on='WD_conf_labels', right_on='CC_name')\n",
    "df_merged"
   ],
   "metadata": {
    "collapsed": false
   }
  },
  {
   "cell_type": "markdown",
   "source": [
    "Only 17 entries share the same event name...\n",
    "\n",
    "The low number can be explained due to several effects:\n",
    "- ConferenceCorpus incorporates proceedings while Wikidata incorporates the names of the events\n",
    "- Sometimes ordinals or years are part of the names. This can lead to different values as strings\n",
    "- In general not only ordinals are part of the names. In some cases the location or the some other parts are included in the name..\n",
    "\n",
    "This shows the importance of encoding the name. But before that we have to separate the name from the ordinals, etc.\n",
    "For both tasks we can use spacy as a NLP library"
   ],
   "metadata": {
    "collapsed": false
   }
  },
  {
   "cell_type": "code",
   "execution_count": 20,
   "outputs": [
    {
     "name": "stdout",
     "output_type": "stream",
     "text": [
      "seventeenth 19 30 ORDINAL\n",
      "DAC 84 87 ORG\n",
      "Heraklion 93 102 PRODUCT\n"
     ]
    }
   ],
   "source": [
    "import spacy\n",
    "\n",
    "nlp = spacy.load('en_core_web_sm')\n",
    "\n",
    "doc = nlp(\"Proceedings of the seventeenth design automation conference on Design automation  - DAC '80, Heraklion\")\n",
    "\n",
    "for ent in doc.ents:\n",
    "    print(ent.text, ent.start_char, ent.end_char, ent.label_)"
   ],
   "metadata": {
    "collapsed": false
   }
  },
  {
   "cell_type": "markdown",
   "source": [
    "That does not look promising..."
   ],
   "metadata": {
    "collapsed": false
   }
  },
  {
   "cell_type": "code",
   "execution_count": null,
   "outputs": [],
   "source": [],
   "metadata": {
    "collapsed": false
   }
  }
 ],
 "metadata": {
  "kernelspec": {
   "display_name": "Python 3",
   "language": "python",
   "name": "python3"
  },
  "language_info": {
   "codemirror_mode": {
    "name": "ipython",
    "version": 2
   },
   "file_extension": ".py",
   "mimetype": "text/x-python",
   "name": "python",
   "nbconvert_exporter": "python",
   "pygments_lexer": "ipython2",
   "version": "2.7.6"
  }
 },
 "nbformat": 4,
 "nbformat_minor": 0
}
