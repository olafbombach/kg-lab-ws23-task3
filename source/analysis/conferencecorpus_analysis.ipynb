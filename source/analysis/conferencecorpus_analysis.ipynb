{
 "cells": [
  {
   "cell_type": "code",
   "execution_count": 133,
   "metadata": {
    "collapsed": true
   },
   "outputs": [],
   "source": [
    "import numpy as np\n",
    "import pandas as pd\n",
    "import json\n",
    "import os\n",
    "from tqdm.notebook import tqdm"
   ]
  },
  {
   "cell_type": "markdown",
   "source": [
    "# read in data from .conferencecorpus:"
   ],
   "metadata": {
    "collapsed": false
   }
  },
  {
   "cell_type": "code",
   "execution_count": 16,
   "outputs": [],
   "source": [
    "path = \"..\\\\..\\\\datasets\\\\.conferencecorpus\\\\crossref\\\\\"\n",
    "json_files = os.listdir(path)[:-1]"
   ],
   "metadata": {
    "collapsed": false
   }
  },
  {
   "cell_type": "code",
   "execution_count": 58,
   "outputs": [
    {
     "data": {
      "text/plain": "['crossref-1.json',\n 'crossref-10.json',\n 'crossref-11.json',\n 'crossref-12.json',\n 'crossref-13.json']"
     },
     "execution_count": 58,
     "metadata": {},
     "output_type": "execute_result"
    }
   ],
   "source": [
    "json_files[0:5]"
   ],
   "metadata": {
    "collapsed": false
   }
  },
  {
   "cell_type": "markdown",
   "source": [
    "# Structure of the files:\n",
    "\n",
    "file:\n",
    "&emsp;status: str\n",
    "&emsp;message-type: str\n",
    "&emsp;message-version: str\n",
    "&emsp;message:\n",
    "&emsp;&emsp;facets: {empty dict}\n",
    "&emsp;&emsp;next-cursor: str\n",
    "&emsp;&emsp;total-results: int\n",
    "&emsp;&emsp;items:\n",
    "&emsp;&emsp;&emsp;Every entry is part of a list!\n",
    "&emsp;&emsp;&emsp;&emsp;event\n",
    "&emsp;&emsp;&emsp;&emsp;&emsp;Here are also different entries depending on the information content of the event\n",
    "&emsp;&emsp;&emsp;&emsp;title: list\n",
    "&emsp;&emsp;&emsp;&emsp;DOI: str\n",
    "&emsp;&emsp;items-per-page: int\n",
    "&emsp;&emsp;query:\n",
    "&emsp;&emsp;&emsp;start-index: int\n",
    "&emsp;&emsp;&emsp;search-terms: None\n",
    "\n",
    "We are interested in the entries of items!"
   ],
   "metadata": {
    "collapsed": false
   }
  },
  {
   "cell_type": "markdown",
   "source": [
    "# Check all docs for their information content:"
   ],
   "metadata": {
    "collapsed": false
   }
  },
  {
   "cell_type": "code",
   "execution_count": 91,
   "outputs": [
    {
     "name": "stdout",
     "output_type": "stream",
     "text": [
      "crossref-1.json...done\n",
      "crossref-10.json...done\n",
      "crossref-11.json...done\n",
      "crossref-12.json...done\n",
      "entry 963 in crossref-13.json lead to an Keyerror for 'title'\n",
      "crossref-13.json...done\n",
      "crossref-14.json...done\n",
      "crossref-15.json...done\n",
      "crossref-16.json...done\n",
      "crossref-17.json...done\n",
      "crossref-18.json...done\n",
      "crossref-19.json...done\n",
      "entry 436 in crossref-2.json lead to an Keyerror for 'title'\n",
      "crossref-2.json...done\n",
      "crossref-20.json...done\n",
      "crossref-21.json...done\n",
      "crossref-22.json...done\n",
      "crossref-23.json...done\n",
      "crossref-24.json...done\n",
      "crossref-25.json...done\n",
      "crossref-26.json...done\n",
      "crossref-27.json...done\n",
      "crossref-28.json...done\n",
      "crossref-29.json...done\n",
      "crossref-3.json...done\n",
      "entry 419 in crossref-30.json lead to an Keyerror for 'title'\n",
      "crossref-30.json...done\n",
      "crossref-31.json...done\n",
      "crossref-32.json...done\n",
      "entry 318 in crossref-33.json lead to an Keyerror for 'title'\n",
      "crossref-33.json...done\n",
      "crossref-34.json...done\n",
      "crossref-35.json...done\n",
      "crossref-36.json...done\n",
      "crossref-37.json...done\n",
      "crossref-38.json...done\n",
      "crossref-39.json...done\n",
      "entry 939 in crossref-4.json lead to an Keyerror for 'title'\n",
      "crossref-4.json...done\n",
      "crossref-40.json...done\n",
      "crossref-41.json...done\n",
      "crossref-42.json...done\n",
      "crossref-43.json...done\n",
      "crossref-44.json...done\n",
      "crossref-45.json...done\n",
      "crossref-46.json...done\n",
      "crossref-47.json...done\n",
      "crossref-48.json...done\n",
      "crossref-49.json...done\n",
      "crossref-5.json...done\n",
      "entry 418 in crossref-50.json lead to an Keyerror for 'title'\n",
      "crossref-50.json...done\n",
      "crossref-51.json...done\n",
      "crossref-52.json...done\n",
      "crossref-53.json...done\n",
      "crossref-54.json...done\n",
      "crossref-55.json...done\n",
      "crossref-56.json...done\n",
      "crossref-57.json...done\n",
      "crossref-58.json...done\n",
      "crossref-59.json...done\n",
      "crossref-6.json...done\n",
      "crossref-60.json...done\n",
      "crossref-61.json...done\n",
      "crossref-62.json...done\n",
      "crossref-63.json...done\n",
      "crossref-64.json...done\n",
      "crossref-65.json...done\n",
      "crossref-66.json...done\n",
      "crossref-67.json...done\n",
      "crossref-7.json...done\n",
      "crossref-8.json...done\n",
      "crossref-9.json...done\n"
     ]
    }
   ],
   "source": [
    "all_event_info = []\n",
    "all_title_info = []\n",
    "all_DOI_info = []\n",
    "\n",
    "for file in json_files:\n",
    "    f = open(path+file)\n",
    "    doc = json.load(f)\n",
    "\n",
    "    for i,entry in enumerate(doc['message']['items']):\n",
    "        try:\n",
    "            all_event_info.extend(list(entry['event'].keys()))\n",
    "        except KeyError:\n",
    "            print(f'entry {i} in {file} lead to an Keyerror for \\'event\\'')\n",
    "        try:\n",
    "            all_title_info.append(len(entry['title']))\n",
    "        except KeyError:\n",
    "            print(f'entry {i} in {file} lead to an Keyerror for \\'title\\'')\n",
    "        try:\n",
    "            all_DOI_info.append(type(entry['DOI']))\n",
    "        except KeyError:\n",
    "            print(f'entry {i} in {file} lead to an Keyerror for \\'DOI\\'')\n",
    "\n",
    "    # shorten the length of the lists after each json-file\n",
    "    all_event_info = list(set(all_event_info))\n",
    "    all_title_info = list(set(all_title_info))\n",
    "    all_DOI_info = list(set(all_DOI_info))\n",
    "\n",
    "    print(f'{file}...done')"
   ],
   "metadata": {
    "collapsed": false
   }
  },
  {
   "cell_type": "code",
   "execution_count": 115,
   "outputs": [
    {
     "name": "stdout",
     "output_type": "stream",
     "text": [
      "{'event': {'name': '2019 IEEE International Conference on Computational Electromagnetics (ICCEM)', 'start': {'date-parts': [[2019, 3, 20]]}, 'location': 'Shanghai, China', 'end': {'date-parts': [[2019, 3, 22]]}}, 'title': ['2019 IEEE International Conference on Computational Electromagnetics (ICCEM)'], 'DOI': '10.1109/iccem45113.2019'}\n"
     ]
    }
   ],
   "source": [
    "# let's check the first keyerror as an example\n",
    "\n",
    "f = open(path+json_files[4]) # in json-file 13\n",
    "doc = json.load(f)\n",
    "print(doc['message']['items'][2]) # at entry 963\n",
    "\n",
    "# see that there is really no information about the title. However, we still get a name and a DOI for reference which is good"
   ],
   "metadata": {
    "collapsed": false
   }
  },
  {
   "cell_type": "code",
   "execution_count": 94,
   "outputs": [
    {
     "name": "stdout",
     "output_type": "stream",
     "text": [
      "['name', 'theme', 'acronym', 'start', 'sponsor', 'end', 'location', 'number']\n",
      "[1]\n",
      "[<class 'str'>]\n"
     ]
    }
   ],
   "source": [
    "# read out all information about the items\n",
    "\n",
    "print(all_event_info)\n",
    "print(all_title_info)\n",
    "print(all_DOI_info)\n",
    "\n",
    "# event in total has up to 8 entries...\n",
    "# the title name is packed into a list leading to length of 1 (except for deviating cases from above)...\n",
    "# DOI is always a string..."
   ],
   "metadata": {
    "collapsed": false
   }
  },
  {
   "cell_type": "markdown",
   "source": [
    "# Let's try to read in the information of the json as a dataframe:"
   ],
   "metadata": {
    "collapsed": false
   }
  },
  {
   "cell_type": "code",
   "execution_count": 176,
   "outputs": [
    {
     "data": {
      "text/plain": "  0%|          | 0/67 [00:00<?, ?it/s]",
      "application/vnd.jupyter.widget-view+json": {
       "version_major": 2,
       "version_minor": 0,
       "model_id": "c7d76630e23e4239a39979ea3c240546"
      }
     },
     "metadata": {},
     "output_type": "display_data"
    }
   ],
   "source": [
    "df = pd.DataFrame(columns=['name', 'theme', 'acronym', 'start', 'end', 'sponsor', 'location', 'number', 'title', 'DOI'])\n",
    "df['sponsor'] = df['sponsor'].astype('object')\n",
    "index = 0\n",
    "\n",
    "for file in tqdm(json_files):\n",
    "    f = open(path+file)\n",
    "    doc = json.load(f)\n",
    "\n",
    "    for entry in doc['message']['items']:\n",
    "        for key in entry.keys():\n",
    "            if key == 'event':\n",
    "                for event_key in list(entry['event'].keys()):\n",
    "                    if event_key in ['start', 'end']:\n",
    "                        df.loc[index, event_key] = entry['event'][event_key].values()\n",
    "                    elif event_key == 'sponsor':\n",
    "                        df.loc[index, 'sponsor'] = ''\n",
    "                        df.at[index, 'sponsor'] = entry['event']['sponsor']\n",
    "                    else:\n",
    "                        df.loc[index, event_key] = entry['event'][event_key]\n",
    "            elif key == 'DOI':\n",
    "                df.loc[index, key] = entry['DOI']\n",
    "            elif key == 'title':\n",
    "                df.loc[index, key] = entry['title'][0]\n",
    "        index += 1\n",
    "\n",
    "# I would have to check if I am performing the setting for 'start', 'end' and 'sponsors correctly...'"
   ],
   "metadata": {
    "collapsed": false
   }
  },
  {
   "cell_type": "code",
   "execution_count": 177,
   "outputs": [
    {
     "name": "stdout",
     "output_type": "stream",
     "text": [
      "<class 'pandas.core.frame.DataFrame'>\n",
      "RangeIndex: 66016 entries, 0 to 66015\n",
      "Data columns (total 10 columns):\n",
      " #   Column    Non-Null Count  Dtype \n",
      "---  ------    --------------  ----- \n",
      " 0   name      66016 non-null  object\n",
      " 1   theme     1705 non-null   object\n",
      " 2   acronym   22365 non-null  object\n",
      " 3   start     40145 non-null  object\n",
      " 4   end       39908 non-null  object\n",
      " 5   sponsor   11222 non-null  object\n",
      " 6   location  53655 non-null  object\n",
      " 7   number    5984 non-null   object\n",
      " 8   title     66010 non-null  object\n",
      " 9   DOI       66016 non-null  object\n",
      "dtypes: object(10)\n",
      "memory usage: 5.0+ MB\n"
     ]
    }
   ],
   "source": [
    "df.info()"
   ],
   "metadata": {
    "collapsed": false
   }
  },
  {
   "cell_type": "code",
   "execution_count": null,
   "outputs": [],
   "source": [],
   "metadata": {
    "collapsed": false
   }
  }
 ],
 "metadata": {
  "kernelspec": {
   "display_name": "Python 3",
   "language": "python",
   "name": "python3"
  },
  "language_info": {
   "codemirror_mode": {
    "name": "ipython",
    "version": 2
   },
   "file_extension": ".py",
   "mimetype": "text/x-python",
   "name": "python",
   "nbconvert_exporter": "python",
   "pygments_lexer": "ipython2",
   "version": "2.7.6"
  }
 },
 "nbformat": 4,
 "nbformat_minor": 0
}
