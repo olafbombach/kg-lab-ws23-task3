{
 "cells": [
  {
   "cell_type": "code",
   "execution_count": 2,
   "metadata": {},
   "outputs": [],
   "source": [
    "import seaborn as sn\n",
    "import numpy as np\n",
    "import pandas as pd\n",
    "import matplotlib.pyplot as plt\n",
    "from source.HelperFunctions import find_root_directory"
   ]
  },
  {
   "cell_type": "code",
   "execution_count": 15,
   "metadata": {},
   "outputs": [],
   "source": [
    "root = find_root_directory()\n",
    "log_file = root / \"results\" / \"logs\" / \"testset_v2_euc_new_new.log\""
   ]
  },
  {
   "cell_type": "code",
   "execution_count": 16,
   "metadata": {},
   "outputs": [],
   "source": [
    "with open(log_file) as f:\n",
    "    f = f.readlines()"
   ]
  },
  {
   "cell_type": "code",
   "execution_count": 17,
   "metadata": {},
   "outputs": [],
   "source": [
    "sim = []\n",
    "label = []\n",
    "\n",
    "for line in f:\n",
    "    if \" -> \" in line:\n",
    "        info = line.split(\"INFO - \")[1]\n",
    "        sim.append(info[0:5])\n",
    "    elif \"Real / True\" in line:\n",
    "        if \"Q\" in line.split(\": \")[1]:\n",
    "            label.append(True)\n",
    "        elif \"null\" in line.split(\": \")[1]:\n",
    "            label.append(False)"
   ]
  },
  {
   "cell_type": "code",
   "execution_count": 18,
   "metadata": {},
   "outputs": [],
   "source": [
    "assert len(sim) == len(label), f\"{len(sim)} is unequal to {len(label)}\""
   ]
  },
  {
   "cell_type": "code",
   "execution_count": 19,
   "metadata": {},
   "outputs": [],
   "source": [
    "data_dict = {\"sim_measure\":sim, \"in_Wikidata\":label}\n",
    "df = pd.DataFrame(data_dict)"
   ]
  },
  {
   "cell_type": "code",
   "execution_count": 20,
   "metadata": {},
   "outputs": [
    {
     "name": "stdout",
     "output_type": "stream",
     "text": [
      "<class 'pandas.core.frame.DataFrame'>\n",
      "RangeIndex: 110 entries, 0 to 109\n",
      "Data columns (total 2 columns):\n",
      " #   Column       Non-Null Count  Dtype  \n",
      "---  ------       --------------  -----  \n",
      " 0   sim_measure  110 non-null    float64\n",
      " 1   in_Wikidata  110 non-null    bool   \n",
      "dtypes: bool(1), float64(1)\n",
      "memory usage: 1.1 KB\n"
     ]
    }
   ],
   "source": [
    "df = df.astype({\"sim_measure\":float, \"in_Wikidata\":bool})\n",
    "df.info()"
   ]
  },
  {
   "cell_type": "code",
   "execution_count": 21,
   "metadata": {},
   "outputs": [
    {
     "name": "stderr",
     "output_type": "stream",
     "text": [
      "c:\\Users\\lujae\\Documents\\university\\DataScience\\courses-semester_3\\Practical_lab\\Code\\kg-lab-ws23-task3\\venv\\lib\\site-packages\\seaborn\\_base.py:949: FutureWarning: When grouping with a length-1 list-like, you will need to pass a length-1 tuple to get_group in a future version of pandas. Pass `(name,)` instead of `name` to silence this warning.\n",
      "  data_subset = grouped_data.get_group(pd_key)\n",
      "c:\\Users\\lujae\\Documents\\university\\DataScience\\courses-semester_3\\Practical_lab\\Code\\kg-lab-ws23-task3\\venv\\lib\\site-packages\\seaborn\\_base.py:949: FutureWarning: When grouping with a length-1 list-like, you will need to pass a length-1 tuple to get_group in a future version of pandas. Pass `(name,)` instead of `name` to silence this warning.\n",
      "  data_subset = grouped_data.get_group(pd_key)\n"
     ]
    },
    {
     "data": {
      "image/png": "[encoded data removed]",
      "text/plain": [
       "<Figure size 640x480 with 1 Axes>"
      ]
     },
     "metadata": {},
     "output_type": "display_data"
    }
   ],
   "source": [
    "fig, axs = plt.subplots(1,1)\n",
    "plt.suptitle(\"Similarity measure for Euclidean distance.\")\n",
    "sn.histplot(data=df, x=\"sim_measure\", hue=\"in_Wikidata\")\n",
    "plt.savefig(root / \"results\" / \"plots\" / \"v2_euc_performance_renewed.png\")"
   ]
  },
  {
   "cell_type": "code",
   "execution_count": null,
   "metadata": {},
   "outputs": [],
   "source": []
  }
 ],
 "metadata": {
  "kernelspec": {
   "display_name": "venv",
   "language": "python",
   "name": "python3"
  },
  "language_info": {
   "codemirror_mode": {
    "name": "ipython",
    "version": 3
   },
   "file_extension": ".py",
   "mimetype": "text/x-python",
   "name": "python",
   "nbconvert_exporter": "python",
   "pygments_lexer": "ipython3",
   "version": "3.9.13"
  }
 },
 "nbformat": 4,
 "nbformat_minor": 2
}
